{
 "cells": [
  {
   "cell_type": "code",
   "execution_count": 1,
   "metadata": {},
   "outputs": [],
   "source": [
    "import pandas as pd\n",
    "import numpy as np\n",
    "import csv"
   ]
  },
  {
   "cell_type": "code",
   "execution_count": 2,
   "metadata": {},
   "outputs": [
    {
     "data": {
      "text/plain": [
       "['table_3.csv', 'table_17.csv', 'table_18.csv', 'table_19.csv']"
      ]
     },
     "execution_count": 2,
     "metadata": {},
     "output_type": "execute_result"
    }
   ],
   "source": [
    "tables = ['table_3.csv', 'table_17.csv', 'table_18.csv', 'table_19.csv']\n",
    "tables"
   ]
  },
  {
   "cell_type": "code",
   "execution_count": 5,
   "metadata": {},
   "outputs": [],
   "source": [
    "df1 = pd.read_csv(tables[0])\n",
    "df2 = pd.read_csv(tables[1])\n",
    "df3 = pd.read_csv(tables[2])\n",
    "df4 = pd.read_csv(tables[3])"
   ]
  },
  {
   "cell_type": "code",
   "execution_count": 26,
   "metadata": {},
   "outputs": [],
   "source": [
    "def check_column_equal(df1, df2):\n",
    "    df1_columns = df1.columns.tolist()\n",
    "    df2_columns = df2.columns.tolist()\n",
    "    \n",
    "    number_of_columns1 = len(df1_columns)\n",
    "    number_of_columns2 = len(df2_columns)\n",
    "    \n",
    "    print(\"number_of_columns1: \", number_of_columns1)\n",
    "    print(\"number_of_columns2: \", number_of_columns2)\n",
    "    \n",
    "    if number_of_columns1 != number_of_columns2:\n",
    "        return False\n",
    "    \n",
    "    if df1_columns == df2_columns:\n",
    "        return True\n",
    "    else:\n",
    "        return False\n",
    "    \n",
    "def solve_non_header_table(df, headers):\n",
    "    temp_firstrow = pd.DataFrame([list(df.columns)], columns=headers)\n",
    "    df.columns = headers\n",
    "\n",
    "    # insert temp_data in to the first row\n",
    "    df = pd.concat([pd.DataFrame(temp_firstrow, columns=headers), df], ignore_index=True)\n",
    "    df = df.reset_index(drop=True)\n",
    "    return df\n",
    "\n",
    "def concat_df(df1, df2):\n",
    "    df1_columns = df1.columns.tolist()\n",
    "    df2_columns = df2.columns.tolist()\n",
    "    if df1_columns == df2_columns:\n",
    "        return pd.concat([df1, df2], ignore_index=True)\n",
    "    else:\n",
    "        return None"
   ]
  },
  {
   "cell_type": "code",
   "execution_count": 34,
   "metadata": {},
   "outputs": [],
   "source": [
    "def detect_csv_header(file_path: str) -> bool:\n",
    "    \"\"\"\n",
    "    Detect if a CSV file has no header using csv.Sniffer.\n",
    "\n",
    "    Args:\n",
    "        file_path (str): Path to the CSV file.\n",
    "\n",
    "    Returns:\n",
    "        bool: True if the CSV likely has NO header, False otherwise.\n",
    "    \"\"\"\n",
    "    try:\n",
    "        with open(file_path, 'r', newline='', encoding='utf-8') as csv_file:\n",
    "            # Read sample data (first 10 lines) for analysis\n",
    "            sample_data = \"\".join(next(csv_file) for _ in range(10))\n",
    "            \n",
    "            if not sample_data.strip():\n",
    "                return True  # Empty file -> no header\n",
    "\n",
    "            # Use CSV Sniffer to detect header\n",
    "            sniffer = csv.Sniffer()\n",
    "            has_header = sniffer.has_header(sample_data)\n",
    "            return not has_header\n",
    "            \n",
    "    except FileNotFoundError:\n",
    "        print(f\"Error: File not found '{file_path}'\")\n",
    "        return False\n",
    "    except csv.Error:\n",
    "        # If Sniffer fails to analyze, assume no header\n",
    "        return True\n",
    "    except Exception as e:\n",
    "        print(f\"Unexpected error: {e}\")\n",
    "        return False"
   ]
  },
  {
   "cell_type": "code",
   "execution_count": null,
   "metadata": {},
   "outputs": [],
   "source": []
  }
 ],
 "metadata": {
  "kernelspec": {
   "display_name": "env",
   "language": "python",
   "name": "python3"
  },
  "language_info": {
   "codemirror_mode": {
    "name": "ipython",
    "version": 3
   },
   "file_extension": ".py",
   "mimetype": "text/x-python",
   "name": "python",
   "nbconvert_exporter": "python",
   "pygments_lexer": "ipython3",
   "version": "3.10.16"
  }
 },
 "nbformat": 4,
 "nbformat_minor": 2
}
