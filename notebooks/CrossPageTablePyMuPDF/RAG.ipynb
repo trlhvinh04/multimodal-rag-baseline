{
 "cells": [
  {
   "cell_type": "code",
   "execution_count": 1,
   "metadata": {},
   "outputs": [
    {
     "name": "stdout",
     "output_type": "stream",
     "text": [
      "c935e2902adf7040a6ffe0db0f7c11e6\n",
      "3 tables\n",
      "----------------------------------------------------------------------------------------------------\n",
      "659dfd3e5c22a64d7597cb50c6fc455e\n",
      "4 tables\n",
      "----------------------------------------------------------------------------------------------------\n"
     ]
    }
   ],
   "source": [
    "import json\n",
    "from typing import Any, Dict, List\n",
    "\n",
    "tables_sources = json.load(open(\"results.json\"))\n",
    "sources = list(tables_sources.keys())\n",
    "for source in sources:\n",
    "    print(source)\n",
    "    print(len(tables_sources[source]), \"tables\")\n",
    "    print(\"-\" * 100)"
   ]
  },
  {
   "cell_type": "markdown",
   "metadata": {},
   "source": [
    "## Summarize"
   ]
  },
  {
   "cell_type": "code",
   "execution_count": 2,
   "metadata": {},
   "outputs": [],
   "source": [
    "import os\n",
    "\n",
    "from dotenv import load_dotenv\n",
    "from langchain.chains.summarize.chain import load_summarize_chain\n",
    "from langchain.docstore.document import Document\n",
    "from langchain.text_splitter import RecursiveCharacterTextSplitter\n",
    "from langchain_google_genai import ChatGoogleGenerativeAI\n",
    "\n",
    "load_dotenv()\n",
    "os.environ['GOOGLE_API_KEY'] = os.getenv(\"GOOGLE_API_KEY\")"
   ]
  },
  {
   "cell_type": "code",
   "execution_count": 3,
   "metadata": {},
   "outputs": [
    {
     "data": {
      "text/plain": [
       "[{'table_content': '# c935e2902adf7040a6ffe0db0f7c11e6_table_0\\nThis is a cross-page table. It spans multiple pages. Page numbers: [4, 5, 7, 8, 10, 11, 12, 13]\\n| Air Jordan         | Year   | Description                                                                                                                                                                                                                                                                                                                                                                                                                                                                                                                                                                                                                                                            |\\n|:-------------------|:-------|:-----------------------------------------------------------------------------------------------------------------------------------------------------------------------------------------------------------------------------------------------------------------------------------------------------------------------------------------------------------------------------------------------------------------------------------------------------------------------------------------------------------------------------------------------------------------------------------------------------------------------------------------------------------------------|\\n| Air Jordan IV      | 1989   | In December 1988, Nike released the Air Jordan IV to the public. Designed by Tinker Hatfield, it was the first Air Jordan released on the global market. It had four colorways: White/Black, Black/Cement Grey, White/Fire Red-Black, and Off White/Military Blue. Nike featured director and actor Spike Lee in ads for the shoe. [27]  Lee had featured the shoe in his movie  Do The Right Thing . [25] Michael Jordan wore the Air Jordan IV when he made \"The Shot\", a series winner in Game 5 of the 1989 NBA First Round between the Chicago Bulls and the Cleveland Cavaliers. In 2012 a Cavalier colorway dubbed the \"Cavs\" was released to honor \"The Shot\". |\\n| Air Jordan V       | 1990   | The Air Jordan V was released in February 1990 and designed by Hatfield. Inspired by a WWII Mustang fighter, [25] features include a reflective tongue with a protruding design, translucent rubber soles and lace locks. [28] The Air Jordan V saw a lot of use in popular sitcom  The Fresh Prince of Bel-Air . During many episodes Will Smith wore the Metallic Silver, Grape, and Fire Red colorways. To pay tribute to his character, Jordan released the Air Jordan 5 Bel Air in 2013 and 2020. [29][30]                                                                                                                                                        |\\n| Air Jordan VI      | 1991   | Designed after a German sports car, Michael Jordan wore the VI for his first Bulls championship. [25]  The shoes were worn by the protagonist of the manga  Slam Dunk , Hanamichi Sakuragi. In 2014, Nike released special versions of the VI featuring artwork from the series. [31]  Various other models in the Air Jordan line are featured in the series, including the original Air Jordan, the V, and the XII. [32]                                                                                                                                                                                                                                             |\\n| Air Jordan VII     | 1992   | The Air Jordan VII introduced \"huarache\" technology which allowed the shoes to better conform to the user\\'s foot. A few things were no longer featured on the new model, such as the visible air sole, the Nike Air logo, and the translucent soles. This was the first Air Jordan in the line that did not have any distinctive \"Nike Air\" branding on the outer portions of the shoe, only on the in-soles. When Jordan went to compete at the 1992 Summer Olympics to play for the US Men\\'s Basketball Team (also known as the \"Dream Team\"), Nike released a special                                                                                               |\\n|                    |        | Olympic color combo of the Air Jordan VII model which had Jordan\\'s Olympic jersey number 9, instead of the usual \"23\" found on other colorways. [25] Various models of the Air Jordan VII were re-released beginning with its 10-year anniversary in 2002. [33]                                                                                                                                                                                                                                                                                                                                                                                                        |\\n| Air Jordan VIII    | 1993   | The Air Jordan VIII was released to coincide with the 1992- 93 NBA season. The eighth model of the Air Jordan contains a full-length air sole, polyurethane midsole, polycarbonate shank plate, and two crossover straps. The VIIIs were known for a successful ad campaign in which Bugs Bunny appeared alongside Michael Jordan to market the shoes. [25]  The shoe was re-released in 2003, 2007, 2008, 2013, and 2015-2017.                                                                                                                                                                                                                                        |\\n| Air Jordan IX      | 1993   | Originally released in November 1993, the Air Jordan IX was the first model released after Michael Jordan\\'s retirement. Jordan never played an NBA season wearing these shoes. This model was inspired by baseball cleats that Jordan wore when playing minor-league baseball. [25]  The shoe was re- released in 2002, 2008, 2010, 2012, and 2014-2018. Like the VII and VIII models, the Air Jordan IX featured an inner sock sleeve and nubuck accents. The sole featured different symbols and languages of different countries. The Air Jordan IX is depicted to be worn by the Statue of Michael Jordan inside the United Center in Chicago. [34]                |\\n| Air Jordan X       | 1994   | This was released in different colors representing U.S. cities. It was the first Air Jordan to feature a lightweight Phylon midsole. The shoe also featured all of Michael Jordan\\'s accomplishments up to his first retirement on the outsole. [25] The shoe was re-released in 2005, 2008, 2012-2016, and 2018.                                                                                                                                                                                                                                                                                                                                                       |\\n| Air Jordan XI      | 1995   | This model was designed by Tinker Hatfield. When the shoe launched, Michael Jordan (retired from basketball by then) was with the Birmingham Barons in baseball\\'s minor baseball leagues. Hatfield designed the sneaker waiting for Jordan to come back and hoping he would play in them. [35] The ballistic mesh upper of the sneaker was meant to make the Air Jordan XI lighter and more durable. Further changes                                                                                                                                                                                                                                                   |\\n|                    | 1996   | Michael Jordan\\'s favorite. [39].The Air Jordan XII featured a \"Rising Sun\" motif mimicking the Flag of Japan. [25]                                                                                                                                                                                                                                                                                                                                                                                                                                                                                                                                                     |\\n|                    | 1997   | This model had a carbon fiber plate, designed by Hatfield. The black panther was the inspiration for the Air Jordan XIII, with the sole resembling the pads on a panther\\'s paw. A hologram on the back of the shoe imitates a panther\\'s eyes in the dark. [25]  They were re-released in 2005, which coincided with the release of the Air Jordan 8s shoe. In the movie  He Got Game , director Spike Lee had access to the Air Jordan XIII months before it was available to the public or even worn by Jordan himself and featured it in scenes. [37]                                                                                                                |\\n| Air Jordan XIV     | 1998   | Inspired by the Ferrari 550 M which Michael Jordan owned, the Air Jordan XIV was originally released in October 1998. [25]  It was re-released in 2005, 2006, 2008, 2011, 2012 and 2014-2018. The Air Jordan XIV co-styled by Hatfield and Mark Smith was made race ready and equipped with the Jordan Jumpman insignia on a Ferrari shaped badge. The color scheme of predominant black accentuated with red was nicknamed \"The Last Shot\" because Michael Jordan wore them as he hit the game winning shot over Bryon Russell, of the Utah Jazz,                                                                                                                     |\\n|                    |        | in his final game with the Chicago Bulls in the 1998 NBA Finals. There are 14 Jumpman logos-7 on each shoe- corresponding the shoes\\' number in the series.                                                                                                                                                                                                                                                                                                                                                                                                                                                                                                             |\\n| Air Jordan XV      | 1999   | This was the first shoe after Jordan\\'s retirement. The design was inspired by the North American X-15, which was developed by NASA during the 1950s. The sides of the XV were made from woven kevlar fiber. [25]  The Jordan XVs were Hatfield\\'s least favorite in the series. [38]                                                                                                                                                                                                                                                                                                                                                                                    |\\n| Air Jordan XVI     | 2001   | The shoe came with spats, and the design was inspired by performance cars and architecture. The ad campaign featured Mos Def. [25]                                                                                                                                                                                                                                                                                                                                                                                                                                                                                                                                     |\\n| Air Jordan XVII    | 2002   | This pair of Jordans came with a multimedia CD-ROM containing the Air Jordan XVII song. The retail price of the shoe was US$200. [25]  The defining functional design element of the Air Jordan XVII model, which was later replicated on the Air Jordan XXIII model, was the reinforced mid-sole which provided a sturdy and stable chassis for the shoe. They were made in four mid top colors and three low-top colors. Michael Jordan wore the XVII while playing for the Washington Wizards, after his second retirement return. [41] The shoe was re-released in 2008 and 2016.                                                                                  |\\n| Air Jordan XVIII   | 2003   | The Air Jordan XVIII shoe was released during Michael Jordan\\'s last season, in which he played for the Washington Wizards. The shoe was designed by Air Jordan Senior Footwear Designer, Tate Kuerbis, who had been part of the Jordan footwear design team since 1999 and with Nike since 1995. The inspiration for the design came from the carbon fiber- based monocoque of F1 race cars, [25]  race car driving shoes (rubber heel wrap) and Fine Italian dress shoes (bold stitching on the soles). It was re-released in 2008.                                                                                                                                   |\\n| Air Jordan XXI     | 2006   | The Air Jordan XXI model of shoes was designed by D\\'Wayne Edwards and inspired by sport touring vehicles. The shoe features lower-foot air grilles, double-overlasted Phylon midsole, a carbon fiber shank plate and a seamless diamond-quilted bootie. It came with removable parts that could make the cushioning firm or soft, and had text that could be seen under a blacklight. [25] The Air Jordan XXI was introduced on television by the \"Second Generation\" advertisement.                                                                                                                                                                                   |\\n|                    | 2007   | The XX2 was inspired by the F-22 Raptor. [25]  The promo commercial was directed by Mark Romanek. [44]                                                                                                                                                                                                                                                                                                                                                                                                                                                                                                                                                                 |\\n| Air Jordan XX3     | 2008   | The Air Jordan XX3 was designed by Tinker Hatfield. It was the first basketball shoe in the \"Nike Considered\" category, for using materials from not more than 200 miles (320 km) from a Nike Factory. It features a hand-stitched exterior, full- length bootie, carbon fiber shank plate, the last to feature interchangeable IPS pillars, and an articulated chassis. The shoe was released on January 25, 2008, and was the last Air Jordan until the XX8 to have Roman numeral identification. The shoe was re-released in 2015-2016.                                                                                                                             |\\n| Air Jordan 2009    | 2009   | The Air Jordan 2009 was designed by Jason Mayden and was the first Air Jordan model named after the year of its release rather than its numbered system. Inspired by Jordan\\'s defensive focus, the shoe incorporates Articulated Propulsion Technology used by Paralympian runners. It also features a durable pleated silk upper, protective Thermoplastic polyurethane (TPU) chassis, carbon fiber arch plate and Zoom Air structure. The shoe was released on January 31, 2009, and has not been re-released.                                                                                                                                                       |\\n| Air Jordan 2010    | 2010   | This was released during the 25th anniversary of the Air Jordan brand. The base of each midsole has stylized text that when combined reads: \"I\\'ve failed over and over and over again in my life. And that is why I succeed.\" This quote is a reference to a 1997 advertising campaign, with Michael Jordan detailing his failures that led to his career successes.                                                                                                                                                                                                                                                                                                   |\\n| Air Jordan 2011    | 2011   | The shoe has interchangeable insoles [25]  - a red one for power and a blue one for quickness. Four colorways of the shoe were released corresponding with the 2011 All Star Game: White/Black, White/Red and White/Blue that represented the East/West Jersey Colors. The \"Year of the Rabbit\" colorway was a limited release that celebrated Michael Jordan\\'s Chinese zodiac sign. The 2011 has a star-constellation pattern that also serves as ventilation. It uses patent leather wrapped around the shoe. The shoes are hand burnished and crafted. A dress shoe that feels similar to the XI was reportedly the goal. The shoe has not been re-released.        |\\n| Air Jordan 2012    | 2012   | The Air Jordan 2012 offers six customization configurations. Two interchangeable sleeves and three insoles adapt to different playing styles. The Deluxe model was launched on February 8, while the customization Flight models were released on February 25, 2012. It was the final Air Jordan model to be named after the year it was released as the numbered system returned in 2013 with the Air Jordan XX8.                                                                                                                                                                                                                                                     |\\n| Air Jordan XX8     | 2013   | The Air Jordan XX8, designed by Tinker Hatfield, was released on February 16, 2013. The outside shroud was made from a Swiss fabric used for motorcycle jackets. [25]                                                                                                                                                                                                                                                                                                                                                                                                                                                                                                  |\\n| Air Jordan XX9     | 2014   | The Air Jordan XX9, also designed by Hatfield, released in September 2014 in both an elephant print and a knit edition. The shoe debuted in the NBA by Russell Westbrook and Kawhi Leonard. The shoe has a performance woven upper, with areas that are stiff and others that are more flexible. [25] Jordan released two versions, a regular cut and low version. Some of the colorways released in low version are buckets, Chicago bulls, UNC, and infrared.                                                                                                                                                                                                        |\\n| Air Jordan XXX     | 2016   | The Air Jordan XXX was again designed by Tinker Hatfield. The first colorway of the shoe released on February 16. [45] The shoe consists of an upper and outsole similar to the XX9. The upper has a flyknit-constructed ankle collar that overextends slightly. The outsole has a more noticeable change, with a different traction pattern, while the midsole remains almost identical.                                                                                                                                                                                                                                                                              |\\n| Air Jordan XXXI    | 2016   | The Air Jordan XXXI is heavily influenced by the Air Jordan 1s, having a leather upper and swoosh, Jumpman, and Jordan \"Wings\" logos. Its retail debut was on September 3, 2016, in the \"Banned\" colorway, for the 30th anniversary of the NBA banning the Air Jordan 1. [25][46]  Notable appearances of the shoe include the \"USA\" colorway worn during the 2016 Olympic basketball tournament by members of team USA. [47]                                                                                                                                                                                                                                          |\\n| Air Jordan XXXII   | 2017   | The Air Jordan XXXII was influenced by the Air Jordan 2 and included a Jordan \"Wings\" logo. It first released in the \"Rossa Corsa\" colorway on September 23, 2017. A \"Banned\" colorway was released on October 18, 2017. Another special edition called the \"Russ\" colorway was released to celebrate Russell Westbrook\\'s sponsorship with Jordan Brand. Jordan Brand released 2 types of this shoe, the original mid length cut and low cut. [25]                                                                                                                                                                                                                     |\\n| Air Jordan XXXIII  | 2018   | The Air Jordan XXXIII was released on October 18, 2018. This is the first Air Jordan model to go laceless. [48]                                                                                                                                                                                                                                                                                                                                                                                                                                                                                                                                                        |\\n| Air Jordan XXXIV   | 2019   | The Air Jordan XXXIV was released on September 25, 2019, with details such as a commemorative date for the brand\\'s 30th anniversary. [49]                                                                                                                                                                                                                                                                                                                                                                                                                                                                                                                              |\\n| Air Jordan XXXV    | 2020   | The Air Jordan XXXV debuted in the Fall of 2020 with a distinct new shape. The model focused on weight reduction for responsiveness. [50]  An area of the midfoot had a hole to provide stability, bounce, and comfort. [51]  The Air Jordan had several collaborations with contemporary NBA players, including Jayson Tatum and Zion Williamson.                                                                                                                                                                                                                                                                                                                     |\\n|                    | 2021   | The Air Jordan XXXVI was first teased by German-American professional basketball player Satou Sabally via social media, and made its on-court debut on March 25, 2021. [52]                                                                                                                                                                                                                                                                                                                                                                                                                                                                                            |\\n| Air Jordan XXXVII  | 2022   | The Air Jordan XXXVII was released on July 28, 2022. [53]                                                                                                                                                                                                                                                                                                                                                                                                                                                                                                                                                                                                              |\\n| Air Jordan XXXVIII | 2023   | The Air Jordan XXXVIII contains a Cushlon 3.0 midsole along with a Zoom Strobel Unit. It was released on August                                                                                                                                                                                                                                                                                                                                                                                                                                                                                                                                                        |\\n|                    |        | 18, 2023, for $200.                                                                                                                                                                                                                                                                                                                                                                                                                                                                                                                                                                                                                                                    |\\n| Air Jordan XXXIX   | 2024   | The Air Jordan XXXIX was released in July 2024.                                                                                                                                                                                                                                                                                                                                                                                                                                                                                                                                                                                                                        |\\n\\nShape: (37, 3)\\n',\n",
       "  'page_numbers': [4, 5, 7, 8, 10, 11, 12, 13],\n",
       "  'source': 'c935e2902adf7040a6ffe0db0f7c11e6',\n",
       "  'table_idx': 0},\n",
       " {'table_content': '# c935e2902adf7040a6ffe0db0f7c11e6_table_1\\nThis is a single-page table. Page number: 27\\n\\n| Column 1        | Column 2                  | Column 3   |\\n|:----------------|:--------------------------|:-----------|\\n| V   ·  T   ·  E | Nike, Inc.                | [show]     |\\n|                 | Links to related articles | [show]     |\\n\\nShape: (2, 3)\\n',\n",
       "  'page_numbers': [27],\n",
       "  'source': 'c935e2902adf7040a6ffe0db0f7c11e6',\n",
       "  'table_idx': 1},\n",
       " {'table_content': '# c935e2902adf7040a6ffe0db0f7c11e6_table_2\\nThis is a single-page table. Page number: 27\\n\\n| Column 1                       | Column 2                       | Column 3      | Column 4       | Column 5                    | Column 6                    |\\n|:-------------------------------|:-------------------------------|:--------------|:---------------|:----------------------------|:----------------------------|\\n| Categories:  Sportswear brands | Categories:  Sportswear brands | Nike brands   | Michael Jordan | Products introduced in 1984 | Products introduced in 1984 |\\n| 1980s fashion                  | 1990s fashion                  | 2000s fashion | 2010s fashion  | 2020s fashion               | Basketball culture          |\\n\\nShape: (2, 6)\\n',\n",
       "  'page_numbers': [27],\n",
       "  'source': 'c935e2902adf7040a6ffe0db0f7c11e6',\n",
       "  'table_idx': 2}]"
      ]
     },
     "execution_count": 3,
     "metadata": {},
     "output_type": "execute_result"
    }
   ],
   "source": [
    "tables_sources[sources[0]]"
   ]
  },
  {
   "cell_type": "code",
   "execution_count": 64,
   "metadata": {},
   "outputs": [],
   "source": [
    "from uuid import uuid4\n",
    "\n",
    "table_entry = tables_sources[sources[0]][0]\n",
    "\n",
    "documents = [Document(\n",
    "    page_content=table_entry[\"table_content\"],\n",
    "    metadata={\n",
    "        \"source\": str(table_entry[\"source\"]),\n",
    "        \"page_numbers\": str(table_entry[\"page_numbers\"]),\n",
    "        \"source_table_idx\": str(f\"{table_entry['source']}_table_{table_entry['table_idx']}\")\n",
    "    }\n",
    ")\n",
    "    for table_entry in tables_sources[source] for source in sources]"
   ]
  },
  {
   "cell_type": "code",
   "execution_count": 70,
   "metadata": {},
   "outputs": [],
   "source": [
    "#### nhận vào một cái Document chứa bảng lớn và các metadata\n",
    "#### Summarize cái bảng sau đó tạo document mới với page_content là summary và metadata là: source, page_numbers, is_summary\n",
    "from langchain_huggingface import HuggingFaceEndpoint, ChatHuggingFace\n",
    "\n",
    "\n",
    "\n",
    "def summarize_table(table_document):\n",
    "    # api\n",
    "    # llm = ChatGoogleGenerativeAI(model=\"gemini-1.5-flash\", temperature=0, max_tokens=1000)\n",
    "    # local\n",
    "    llm = HuggingFaceEndpoint(\n",
    "        repo_id=\"microsoft/Phi-3-mini-4k-instruct\",\n",
    "        task=\"text-generation\",\n",
    "        max_new_tokens=512,\n",
    "        do_sample=False,\n",
    "        repetition_penalty=1.03,\n",
    "    )\n",
    "    \n",
    "    summary_chain = load_summarize_chain(llm=llm, chain_type=\"map_reduce\")\n",
    "\n",
    "    summary_output = summary_chain.invoke([table_document])\n",
    "    summary = summary_output['output_text']\n",
    "\n",
    "    summary_document = Document(\n",
    "        page_content=summary,\n",
    "        metadata={\n",
    "            \"source\": table_document.metadata[\"source\"],\n",
    "            \"page_numbers\": table_document.metadata[\"page_numbers\"],\n",
    "            \"is_summary\": True,\n",
    "            \"source_table_idx\": table_document.metadata[\"source_table_idx\"]\n",
    "        }\n",
    "    )\n",
    "    return summary_document\n",
    "\n",
    "# def get_detail_chunks(table_document):\n",
    "#     text_splitter = RecursiveCharacterTextSplitter(chunk_size=1000, chunk_overlap=200)\n",
    "#     chunks = text_splitter.split_documents([table_document])\n",
    "    \n",
    "#     for i, chunk in enumerate(chunks):\n",
    "#         chunk.metadata.update({\n",
    "#             \"chunk_id\": i,\n",
    "#             \"source\": table_document.metadata[\"source\"],\n",
    "#             \"page_numbers\": table_document.metadata[\"page_numbers\"],\n",
    "#             \"is_summary\": False\n",
    "#         })\n",
    "#     return chunks\n",
    "\n",
    "\n"
   ]
  },
  {
   "cell_type": "markdown",
   "metadata": {},
   "source": [
    "## Vectorstore"
   ]
  },
  {
   "cell_type": "code",
   "execution_count": 67,
   "metadata": {},
   "outputs": [],
   "source": [
    "from langchain_milvus import Milvus\n",
    "from langchain_google_genai import GoogleGenerativeAIEmbeddings\n",
    "\n",
    "embeddings = GoogleGenerativeAIEmbeddings(model=\"models/embedding-001\")\n",
    "\n",
    "def create_vector_store(documents, name):\n",
    "    URI = f\"./{name}.db\"\n",
    "    vector_store = Milvus(\n",
    "        embedding_function=embeddings,\n",
    "        connection_args={\"uri\": URI},\n",
    "        index_params={\"index_type\": \"FLAT\", \"metric_type\": \"L2\"},\n",
    "        drop_old=True,\n",
    "    )\n",
    "    uuids = [str(uuid4()) for _ in range(len(documents))]\n",
    "    vector_store.add_documents(documents=documents, ids=uuids)\n",
    "    return uuids,vector_store\n"
   ]
  },
  {
   "cell_type": "code",
   "execution_count": 68,
   "metadata": {},
   "outputs": [],
   "source": [
    "# def encode_table_document(table_documents):\n",
    "#     summary_documents = []\n",
    "#     detail_chunks = []\n",
    "    \n",
    "#     for table_document in table_documents:\n",
    "#         summary_documents.append(summarize_table(table_document))\n",
    "#         detail_chunks.extend(get_detail_chunks(table_document))\n",
    "    \n",
    "#     uuids_summary, summary_vectorstore = create_vector_store(summary_documents, \"summary_vectorstore\")\n",
    "#     uuids_detail, detail_vectorstore = create_vector_store(detail_chunks, \"detail_vectorstore\")\n",
    "    \n",
    "#     return summary_vectorstore, detail_vectorstore\n",
    "\n",
    "\n",
    "def encode_table_document(table_documents):\n",
    "    summary_documents = []\n",
    "    original_documents = []\n",
    "    \n",
    "    for table_document in table_documents:\n",
    "        summary_documents.append(summarize_table(table_document))\n",
    "        original_documents.append(table_document)\n",
    "    \n",
    "    uuids_summary, summary_vectorstore = create_vector_store(summary_documents, \"summary_vectorstore\")\n",
    "    uuids_detail, detail_vectorstore = create_vector_store(original_documents, \"detail_vectorstore\")\n",
    "    \n",
    "    return summary_vectorstore, detail_vectorstore"
   ]
  },
  {
   "cell_type": "code",
   "execution_count": null,
   "metadata": {},
   "outputs": [],
   "source": [
    "summary_vectorstore, detail_vectorstore = encode_table_document(documents)"
   ]
  },
  {
   "cell_type": "code",
   "execution_count": 83,
   "metadata": {},
   "outputs": [],
   "source": [
    "def retrieve_hierachical(query, summary_vectorstore, detail_vectorstore, k_summaries=3, k_details=5, verbose=False):\n",
    "    top_summaries = summary_vectorstore.similarity_search_with_score(query, k=k_summaries)\n",
    "    \n",
    "    if verbose:\n",
    "        for summary, score in top_summaries:\n",
    "            print(f\"* [SIM={score:3f}] {summary.page_content} [{summary.metadata}]\")\n",
    "        print(\"-\"*100)\n",
    "    relevant_chunks = []\n",
    "    # Track seen documents to avoid duplicates\n",
    "    seen_documents = set()\n",
    "    for summary, score in top_summaries:\n",
    "        source_table_idx = summary.metadata[\"source_table_idx\"]\n",
    "        source_filter = lambda metadata: metadata[\"source_table_idx\"] == source_table_idx\n",
    "        detail_results = detail_vectorstore.similarity_search_with_score(\n",
    "            query,\n",
    "            k=k_details,\n",
    "            filter=source_filter,\n",
    "        )\n",
    "        \n",
    "        # Only add documents that haven't been seen before\n",
    "        for doc, doc_score in detail_results:\n",
    "            doc_id = (doc.page_content, doc.metadata.get(\"source_table_idx\"))\n",
    "            if doc_id not in seen_documents:\n",
    "                relevant_chunks.append((doc, doc_score))\n",
    "                seen_documents.add(doc_id)\n",
    "    \n",
    "    # Sort by relevance score\n",
    "    relevant_chunks.sort(key=lambda x: x[1])\n",
    "    \n",
    "    return relevant_chunks"
   ]
  },
  {
   "cell_type": "code",
   "execution_count": 84,
   "metadata": {},
   "outputs": [],
   "source": [
    "query = \"Who directed the film 'Star Trek'?\"\n",
    "relevant_chunks = retrieve_hierachical(query, summary_vectorstore, detail_vectorstore)"
   ]
  },
  {
   "cell_type": "code",
   "execution_count": 85,
   "metadata": {},
   "outputs": [
    {
     "name": "stdout",
     "output_type": "stream",
     "text": [
      "table_idx:  659dfd3e5c22a64d7597cb50c6fc455e_table_0\n",
      "page_content:  # 659dfd3e5c22a64d7597cb50c6fc455e_table_0\n",
      "This is a cross-page table. It spans multiple pages. Page numbers: [5, 6, 7]\n",
      "| Year   | Title                                         | Role                    | Director                     | Notes                                                                          |\n",
      "|:-------|:----------------------------------------------|:------------------------|:-----------------------------|:-------------------------------------------------------------------------------|\n",
      "| 2000   | A Man Is Mostly Water                         | Augie                   | Fred Parnes                  |                                                                                |\n",
      "| 2001   | Delivering Milo                               | Milo                    | Nick Castle                  |                                                                                |\n",
      "| 2001   | 15 Minutes                                    | Boy in Burning Building | John Herzfeld                |                                                                                |\n",
      "| 2001   | Along Came a Spider                           | Dimitri Starodubov      | Lee Tamahori                 |                                                                                |\n",
      "| 2001   | Hearts in Atlantis                            | Bobby Garfield          | Scott Hicks                  |                                                                                |\n",
      "| 2002   | A Time for Dancing                            | Jackson                 | Peter Gilbert                |                                                                                |\n",
      "| 2004   | House of D                                    | Tommy Warshaw           | David Duchovny               |                                                                                |\n",
      "| 2005   | Fierce People                                 | Finn Earl               | Griffin Dunne                |                                                                                |\n",
      "| 2006   | Alpha Dog                                     | Zack Mazursky           | Nick Cassavetes              |                                                                                |\n",
      "| 2007   | Charlie Bartlett                              | Charlie Bartlett        | Jon Poll                     |                                                                                |\n",
      "| 2008   | New York, I Love You                          | Boy in the Park         | Brett Ratner                 | Segment: \"Brett Ratner\"                                                        |\n",
      "| 2008   | Middle of Nowhere                             | Dorian Spitz            | John Stockwell               |                                                                                |\n",
      "| 2009   | Star Trek                                     | Pavel Chekov            | J. J. Abrams                 |                                                                                |\n",
      "| 2009   | Terminator Salvation                          | Kyle Reese              | McG                          | Also plays physical embodiment of Skynet (uncredited) in a Kyle Reese disguise |\n",
      "| 2010   | Memoirs of a Teenage Amnesiac                 | Ace Zuckerman           | Hans Canosa                  |                                                                                |\n",
      "| 2011   | Like Crazy                                    | Jacob Helm              | Drake Doremus                |                                                                                |\n",
      "| 2011   | You and I                                     | Edvard Nikitin          | Roland Joffé                 |                                                                                |\n",
      "| 2011   | The Beaver                                    | Porter Black            | Jodie Foster                 |                                                                                |\n",
      "| 2011   | From Up on Poppy Hill                         | Shun Kazama             | Gorō Miyazaki                | Voice (English dub)                                                            |\n",
      "| 2011   | The Smurfs                                    | Clumsy Smurf            | Raja Gosnell                 | Voice                                                                          |\n",
      "| 2011   | The Smurfs: A Christmas Carol                 | Clumsy Smurf            | Troy Quane                   | Short film; voice                                                              |\n",
      "| 2011   | Fright Night                                  | Charley Brewster        | Craig Gillespie              |                                                                                |\n",
      "| 2012   | The Pirates! Band of Misfits                  | Albino pirate           | Peter Lord                   | Voice (American dub)                                                           |\n",
      "| 2013   | Odd Thomas                                    | Odd Thomas              | Stephen Sommers              |                                                                                |\n",
      "| 2013   | Star Trek Into Darkness                       | Pavel Chekov            | J. J. Abrams                 |                                                                                |\n",
      "| 2013   | Only Lovers Left Alive                        | Ian                     | Jim Jarmusch                 |                                                                                |\n",
      "|        | The Smurfs 2                                  | Clumsy Smurf            | Raja Gosnell                 | Voice                                                                          |\n",
      "|        | Fool                                          | Oliver                  | Jacob Gentry                 | Short film [59]                                                                |\n",
      "|        | After the Disco Part Two: Holding On for Life | Oliver                  | Jacob Gentry                 | Short film [59]                                                                |\n",
      "| 2014   | The Apprentice                                | Wayne                   | Steve Baker and Damon Escott | Short film; deleted  Movie 43 segment                                          |\n",
      "| 2014   | Rudderless                                    | Quentin                 | William H. Macy              |                                                                                |\n",
      "| 2014   | 5 to 7                                        | Brian Bloom             | Victor Levin                 |                                                                                |\n",
      "| 2014   | Cymbeline                                     | Cloten                  | Michael Almereyda            |                                                                                |\n",
      "| 2014   | Burying the Ex                                | Max                     | Joe Dante                    |                                                                                |\n",
      "| 2014   | Dying of the Light                            | Milton Schultz          | Paul Schrader                |                                                                                |\n",
      "| 2015   | Experimenter                                  | Rensaleer               | Michael Almereyda            |                                                                                |\n",
      "| 2015   | Broken Horses                                 | Jacob Heckum            | Vidhu Vinod Chopra           |                                                                                |\n",
      "| 2015   | The Driftless Area                            | Pierre                  | Zachary Sluser               |                                                                                |\n",
      "| 2015   | Green Room                                    | Pat                     | Jeremy Saulnier              |                                                                                |\n",
      "| 2015   | Court of Conscience                           | Father James            | James Haven                  | Short film [60][61]                                                            |\n",
      "| 2015   | Unity                                         | Narrator                | Shaun Monson                 | Documentary [62]                                                               |\n",
      "| 2016   | Star Trek Beyond                              | Pavel Chekov            | Justin Lin                   | Posthumous release; Dedicated to                                               |\n",
      "| 2016   | Porto                                         | Jake Kleeman            | Gabe Klinger                 | Posthumous release; Dedicated to                                               |\n",
      "| 2017   | Thoroughbreds                                 | Tim                     | Cory Finley                  | Posthumous release; Dedicated to                                               |\n",
      "| 2017   | Rememory                                      | Todd                    | Mark Palansky                | Posthumous release; Dedicated to                                               |\n",
      "| 2017   | We Don't Belong Here                          | Maxwell Green           | Peer Pedersen                | Posthumous release; Dedicated to                                               |\n",
      "| 2019   | Love, Antosha                                 | Himself                 | Garret Price                 | Archive footage; documentary about Yelchin's life                              |\n",
      "\n",
      "Shape: (47, 5)\n",
      "\n",
      "table_idx:  659dfd3e5c22a64d7597cb50c6fc455e_table_3\n",
      "page_content:  # 659dfd3e5c22a64d7597cb50c6fc455e_table_3\n",
      "This is a single-page table. Page number: 9\n",
      "\n",
      "|   Year | Award                                              | Category                                                                        | Title of work      | Result    | Ref.   |\n",
      "|-------:|:---------------------------------------------------|:--------------------------------------------------------------------------------|:-------------------|:----------|:-------|\n",
      "|   2002 | Phoenix Film Critics Award                         | Best Youth Performance                                                          | Hearts in Atlantis | Nominated |        |\n",
      "|   2002 | Young Artist Award                                 | Best Performance in a Feature Film - Leading Young Actor                        | Hearts in Atlantis | Won       | [17]   |\n",
      "|   2003 | Young Artist Award                                 | Best Performance in a TV Movie, Mini-Series or Special - Supporting Young Actor | Taken              | Nominated | [64]   |\n",
      "|   2005 | Young Artist Award                                 | Best Performance in a TV Movie, Miniseries or Special - Leading Young Actor     | Jack               | Nominated | [65]   |\n",
      "|   2009 | Boston Society of Film Critics Awards              | Best Ensemble Cast                                                              | Star Trek          | Won       | [66]   |\n",
      "|   2009 | Washington DC Area Film Critics Association Awards | Best Ensemble                                                                   | Star Trek          | Nominated | [67]   |\n",
      "|   2010 | Broadcast Film Critics Association Awards          | Best Acting Ensemble                                                            | Star Trek          | Nominated | [68]   |\n",
      "\n",
      "Shape: (7, 6)\n",
      "\n",
      "table_idx:  659dfd3e5c22a64d7597cb50c6fc455e_table_2\n",
      "page_content:  # 659dfd3e5c22a64d7597cb50c6fc455e_table_2\n",
      "This is a single-page table. Page number: 8\n",
      "\n",
      "|   Year | Title        | Voice role   |\n",
      "|-------:|:-------------|:-------------|\n",
      "|   2013 | Star Trek    | Pavel Chekov |\n",
      "|   2013 | The Smurfs 2 | Clumsy Smurf |\n",
      "\n",
      "Shape: (2, 3)\n",
      "\n"
     ]
    }
   ],
   "source": [
    "for chunk in relevant_chunks:\n",
    "    print(\"table_idx: \", chunk[0].metadata['source_table_idx'])\n",
    "    print(\"page_content: \", chunk[0].page_content)"
   ]
  },
  {
   "cell_type": "code",
   "execution_count": null,
   "metadata": {},
   "outputs": [],
   "source": []
  }
 ],
 "metadata": {
  "kernelspec": {
   "display_name": "env",
   "language": "python",
   "name": "python3"
  },
  "language_info": {
   "codemirror_mode": {
    "name": "ipython",
    "version": 3
   },
   "file_extension": ".py",
   "mimetype": "text/x-python",
   "name": "python",
   "nbconvert_exporter": "python",
   "pygments_lexer": "ipython3",
   "version": "3.10.16"
  }
 },
 "nbformat": 4,
 "nbformat_minor": 2
}
