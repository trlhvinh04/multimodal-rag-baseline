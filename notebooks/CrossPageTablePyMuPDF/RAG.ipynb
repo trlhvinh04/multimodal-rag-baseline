{
 "cells": [
  {
   "cell_type": "code",
   "execution_count": 1,
   "metadata": {},
   "outputs": [
    {
     "name": "stdout",
     "output_type": "stream",
     "text": [
      "c935e2902adf7040a6ffe0db0f7c11e6\n",
      "3 tables\n",
      "----------------------------------------------------------------------------------------------------\n",
      "659dfd3e5c22a64d7597cb50c6fc455e\n",
      "4 tables\n",
      "----------------------------------------------------------------------------------------------------\n"
     ]
    }
   ],
   "source": [
    "import json\n",
    "from typing import Any, Dict, List\n",
    "\n",
    "tables_sources = json.load(open(\"results.json\"))\n",
    "sources = list(tables_sources.keys())\n",
    "for source in sources:\n",
    "    print(source)\n",
    "    print(len(tables_sources[source]), \"tables\")\n",
    "    print(\"-\" * 100)"
   ]
  },
  {
   "cell_type": "markdown",
   "metadata": {},
   "source": [
    "## Summarize"
   ]
  },
  {
   "cell_type": "code",
   "execution_count": 86,
   "metadata": {},
   "outputs": [],
   "source": [
    "import os\n",
    "\n",
    "from dotenv import load_dotenv\n",
    "from langchain.chains.summarize.chain import load_summarize_chain\n",
    "from langchain.docstore.document import Document\n",
    "from langchain.text_splitter import RecursiveCharacterTextSplitter\n",
    "from langchain_google_genai import ChatGoogleGenerativeAI\n",
    "\n",
    "load_dotenv()\n",
    "os.environ['GOOGLE_API_KEY'] = os.getenv(\"GOOGLE_API_KEY\")"
   ]
  },
  {
   "cell_type": "code",
   "execution_count": null,
   "metadata": {},
   "outputs": [],
   "source": [
    "# tables_sources[sources[0]]\n",
    "\n",
    "# list of this\n",
    "# {\n",
    "#     'table_content': '# c935e2902adf7040a6ffe0db0f7c11e6_table_0\\n....\n",
    "#     'page_numbers': [4, 5, 7, 8, 10, 11, 12, 13],\n",
    "#     'source': 'c935e2902adf7040a6ffe0db0f7c11e6',\n",
    "#     'table_idx': 0\n",
    "#     }"
   ]
  },
  {
   "cell_type": "code",
   "execution_count": 88,
   "metadata": {},
   "outputs": [],
   "source": [
    "from uuid import uuid4\n",
    "\n",
    "documents = [Document(\n",
    "    page_content=table_entry[\"table_content\"],\n",
    "    metadata={\n",
    "        \"source\": str(table_entry[\"source\"]),\n",
    "        \"page_numbers\": str(table_entry[\"page_numbers\"]),\n",
    "        \"source_table_idx\": str(f\"{table_entry['source']}_table_{table_entry['table_idx']}\"),\n",
    "        \"is_full_table\": True\n",
    "    }\n",
    ")\n",
    "    for table_entry in tables_sources[source] for source in sources]"
   ]
  },
  {
   "cell_type": "code",
   "execution_count": 89,
   "metadata": {},
   "outputs": [],
   "source": [
    "# nhận vào một cái Document chứa bảng lớn và các metadata\n",
    "# Summarize cái bảng sau đó tạo document mới với page_content là summary và metadata là: source, page_numbers, is_summary\n",
    "from langchain_huggingface import HuggingFaceEndpoint, ChatHuggingFace\n",
    "\n",
    "\n",
    "def summarize_table(table_document):\n",
    "    # api\n",
    "    # llm = ChatGoogleGenerativeAI(model=\"gemini-1.5-flash\", temperature=0, max_tokens=1000)\n",
    "    # local\n",
    "    llm = HuggingFaceEndpoint(\n",
    "        repo_id=\"microsoft/Phi-3-mini-4k-instruct\",\n",
    "        task=\"text-generation\",\n",
    "        max_new_tokens=512,\n",
    "        do_sample=False,\n",
    "        repetition_penalty=1.03,\n",
    "    )\n",
    "\n",
    "    summary_chain = load_summarize_chain(llm=llm, chain_type=\"map_reduce\")\n",
    "\n",
    "    summary_output = summary_chain.invoke([table_document])\n",
    "    summary = summary_output['output_text']\n",
    "\n",
    "    summary_document = Document(\n",
    "        page_content=summary,\n",
    "        metadata={\n",
    "            \"source\": table_document.metadata[\"source\"],\n",
    "            \"page_numbers\": table_document.metadata[\"page_numbers\"],\n",
    "            \"is_summary\": True,\n",
    "            \"source_table_idx\": table_document.metadata[\"source_table_idx\"]\n",
    "        }\n",
    "    )\n",
    "    return summary_document\n",
    "\n",
    "\n",
    "def get_detail_chunks(table_document):\n",
    "    text_splitter = RecursiveCharacterTextSplitter(\n",
    "        chunk_size=1000, chunk_overlap=200)\n",
    "    chunks = text_splitter.split_documents([table_document])\n",
    "\n",
    "    for i, chunk in enumerate(chunks):\n",
    "        chunk.metadata.update({\n",
    "            \"chunk_id\": i,\n",
    "            \"source\": table_document.metadata[\"source\"],\n",
    "            \"page_numbers\": table_document.metadata[\"page_numbers\"],\n",
    "            \"is_summary\": False,\n",
    "            \"is_full_table\": False\n",
    "        })\n",
    "    return chunks"
   ]
  },
  {
   "cell_type": "markdown",
   "metadata": {},
   "source": [
    "## Vectorstore"
   ]
  },
  {
   "cell_type": "code",
   "execution_count": 90,
   "metadata": {},
   "outputs": [],
   "source": [
    "from langchain_milvus import Milvus\n",
    "from langchain_google_genai import GoogleGenerativeAIEmbeddings\n",
    "\n",
    "embeddings = GoogleGenerativeAIEmbeddings(model=\"models/embedding-001\")\n",
    "\n",
    "\n",
    "def create_vector_store(documents, name):\n",
    "    URI = f\"./{name}.db\"\n",
    "    vector_store = Milvus(\n",
    "        embedding_function=embeddings,\n",
    "        connection_args={\"uri\": URI},\n",
    "        index_params={\"index_type\": \"FLAT\", \"metric_type\": \"L2\"},\n",
    "        drop_old=True,\n",
    "    )\n",
    "    uuids = [str(uuid4()) for _ in range(len(documents))]\n",
    "    vector_store.add_documents(documents=documents, ids=uuids)\n",
    "    return uuids, vector_store"
   ]
  },
  {
   "cell_type": "code",
   "execution_count": 91,
   "metadata": {},
   "outputs": [],
   "source": [
    "# def encode_table_document(table_documents):\n",
    "#     summary_documents = []\n",
    "#     detail_chunks = []\n",
    "\n",
    "#     for table_document in table_documents:\n",
    "#         summary_documents.append(summarize_table(table_document))\n",
    "#         detail_chunks.extend(get_detail_chunks(table_document))\n",
    "\n",
    "#     uuids_summary, summary_vectorstore = create_vector_store(summary_documents, \"summary_vectorstore\")\n",
    "#     uuids_detail, detail_vectorstore = create_vector_store(detail_chunks, \"detail_vectorstore\")\n",
    "\n",
    "#     return summary_vectorstore, detail_vectorstore\n",
    "\n",
    "\n",
    "def encode_table_document(table_documents):\n",
    "    summary_documents = []\n",
    "    original_table_and_chunks = []\n",
    "\n",
    "    for table_document in table_documents:\n",
    "        summary_documents.append(summarize_table(table_document))\n",
    "        original_table_and_chunks.append(table_document)\n",
    "        original_table_and_chunks.extend(get_detail_chunks(table_document))\n",
    "\n",
    "    uuids_summary, summary_vectorstore = create_vector_store(\n",
    "        summary_documents, \"summary_vectorstore\")\n",
    "    uuids_detail, detail_vectorstore = create_vector_store(\n",
    "        original_table_and_chunks, \"detail_vectorstore\")\n",
    "\n",
    "    return summary_vectorstore, detail_vectorstore"
   ]
  },
  {
   "cell_type": "code",
   "execution_count": null,
   "metadata": {},
   "outputs": [],
   "source": [
    "summary_vectorstore, detail_vectorstore = encode_table_document(documents)"
   ]
  },
  {
   "cell_type": "code",
   "execution_count": 112,
   "metadata": {},
   "outputs": [],
   "source": [
    "from time import time\n",
    "\n",
    "\n",
    "def retrieve_hierachical(query, summary_vectorstore, detail_vectorstore, k_summaries=3, k_details=5, verbose=False):\n",
    "    start_time = time()\n",
    "    top_summaries = summary_vectorstore.similarity_search_with_score(\n",
    "        query, k=k_summaries)\n",
    "\n",
    "    if verbose:\n",
    "        for summary, score in top_summaries:\n",
    "            print(\n",
    "                f\"* [SIM={score:3f}] {summary.page_content} [{summary.metadata}]\")\n",
    "        print(\"-\"*100)\n",
    "    relevant_chunks = []\n",
    "    # Track seen documents to avoid duplicates\n",
    "    seen_documents = set()\n",
    "\n",
    "    for summary, score in top_summaries:\n",
    "        source_table_idx = summary.metadata[\"source_table_idx\"]\n",
    "\n",
    "        def source_filter(\n",
    "            metadata): return metadata[\"source_table_idx\"] == source_table_idx\n",
    "        detail_results = detail_vectorstore.similarity_search_with_score(\n",
    "            query,\n",
    "            k=k_details,\n",
    "            filter=source_filter,\n",
    "        )\n",
    "\n",
    "        # Only add documents that haven't been seen before\n",
    "        for doc, doc_score in detail_results:\n",
    "            doc_id = (doc.page_content, doc.metadata.get(\"source_table_idx\"))\n",
    "            if doc_id not in seen_documents:\n",
    "                relevant_chunks.append((doc, doc_score))\n",
    "                seen_documents.add(doc_id)\n",
    "\n",
    "    # Sort by relevance score (lower score is better)\n",
    "    if relevant_chunks:\n",
    "        relevant_chunks.sort(key=lambda x: x[1])\n",
    "    end_time = time()\n",
    "    print(f\"Time taken: {end_time - start_time:.2f} seconds\")\n",
    "    return relevant_chunks"
   ]
  },
  {
   "cell_type": "code",
   "execution_count": 113,
   "metadata": {},
   "outputs": [
    {
     "name": "stdout",
     "output_type": "stream",
     "text": [
      "Time taken: 2.65 seconds\n"
     ]
    }
   ],
   "source": [
    "query = \"Who directed the film 'Star Trek'?\"\n",
    "relevant_chunks = retrieve_hierachical(\n",
    "    query, summary_vectorstore, detail_vectorstore)"
   ]
  },
  {
   "cell_type": "code",
   "execution_count": 115,
   "metadata": {},
   "outputs": [
    {
     "name": "stdout",
     "output_type": "stream",
     "text": [
      "table_idx:  659dfd3e5c22a64d7597cb50c6fc455e_table_0\n",
      "is_full_table:  True\n",
      "page_content: \n",
      " # 659dfd3e5c22a64d7597cb50c6fc455e_table_0\n",
      "This is a cross-page table. It spans multiple pages. Page numbers: [5, 6, 7]\n",
      "| Year   | Title                                         | Role                    | Director                     | Notes                                                                          |\n",
      "|:-------|:----------------------------------------------|:------------------------|:-----------------------------|:-------------------------------------------------------------------------------|\n",
      "| 2000   | A Man Is Mostly Water                         | Augie                   | Fred Parnes                  |                                                                                |\n",
      "| 2001   | Delivering Milo                               | Milo                    | Nick Castle                  |                                                                                |\n",
      "| 2001   | 15 Minutes                                    | Boy in Burning Building | John Herzfeld                |                                                                                |\n",
      "| 2001   | Along Came a Spider                           | Dimitri Starodubov      | Lee Tamahori                 |                                                                                |\n",
      "| 2001   | Hearts in Atlantis                            | Bobby Garfield          | Scott Hicks                  |                                                                                |\n",
      "| 2002   | A Time for Dancing                            | Jackson                 | Peter Gilbert                |                                                                                |\n",
      "| 2004   | House of D                                    | Tommy Warshaw           | David Duchovny               |                                                                                |\n",
      "| 2005   | Fierce People                                 | Finn Earl               | Griffin Dunne                |                                                                                |\n",
      "| 2006   | Alpha Dog                                     | Zack Mazursky           | Nick Cassavetes              |                                                                                |\n",
      "| 2007   | Charlie Bartlett                              | Charlie Bartlett        | Jon Poll                     |                                                                                |\n",
      "| 2008   | New York, I Love You                          | Boy in the Park         | Brett Ratner                 | Segment: \"Brett Ratner\"                                                        |\n",
      "| 2008   | Middle of Nowhere                             | Dorian Spitz            | John Stockwell               |                                                                                |\n",
      "| 2009   | Star Trek                                     | Pavel Chekov            | J. J. Abrams                 |                                                                                |\n",
      "| 2009   | Terminator Salvation                          | Kyle Reese              | McG                          | Also plays physical embodiment of Skynet (uncredited) in a Kyle Reese disguise |\n",
      "| 2010   | Memoirs of a Teenage Amnesiac                 | Ace Zuckerman           | Hans Canosa                  |                                                                                |\n",
      "| 2011   | Like Crazy                                    | Jacob Helm              | Drake Doremus                |                                                                                |\n",
      "| 2011   | You and I                                     | Edvard Nikitin          | Roland Joffé                 |                                                                                |\n",
      "| 2011   | The Beaver                                    | Porter Black            | Jodie Foster                 |                                                                                |\n",
      "| 2011   | From Up on Poppy Hill                         | Shun Kazama             | Gorō Miyazaki                | Voice (English dub)                                                            |\n",
      "| 2011   | The Smurfs                                    | Clumsy Smurf            | Raja Gosnell                 | Voice                                                                          |\n",
      "| 2011   | The Smurfs: A Christmas Carol                 | Clumsy Smurf            | Troy Quane                   | Short film; voice                                                              |\n",
      "| 2011   | Fright Night                                  | Charley Brewster        | Craig Gillespie              |                                                                                |\n",
      "| 2012   | The Pirates! Band of Misfits                  | Albino pirate           | Peter Lord                   | Voice (American dub)                                                           |\n",
      "| 2013   | Odd Thomas                                    | Odd Thomas              | Stephen Sommers              |                                                                                |\n",
      "| 2013   | Star Trek Into Darkness                       | Pavel Chekov            | J. J. Abrams                 |                                                                                |\n",
      "| 2013   | Only Lovers Left Alive                        | Ian                     | Jim Jarmusch                 |                                                                                |\n",
      "|        | The Smurfs 2                                  | Clumsy Smurf            | Raja Gosnell                 | Voice                                                                          |\n",
      "|        | Fool                                          | Oliver                  | Jacob Gentry                 | Short film [59]                                                                |\n",
      "|        | After the Disco Part Two: Holding On for Life | Oliver                  | Jacob Gentry                 | Short film [59]                                                                |\n",
      "| 2014   | The Apprentice                                | Wayne                   | Steve Baker and Damon Escott | Short film; deleted  Movie 43 segment                                          |\n",
      "| 2014   | Rudderless                                    | Quentin                 | William H. Macy              |                                                                                |\n",
      "| 2014   | 5 to 7                                        | Brian Bloom             | Victor Levin                 |                                                                                |\n",
      "| 2014   | Cymbeline                                     | Cloten                  | Michael Almereyda            |                                                                                |\n",
      "| 2014   | Burying the Ex                                | Max                     | Joe Dante                    |                                                                                |\n",
      "| 2014   | Dying of the Light                            | Milton Schultz          | Paul Schrader                |                                                                                |\n",
      "| 2015   | Experimenter                                  | Rensaleer               | Michael Almereyda            |                                                                                |\n",
      "| 2015   | Broken Horses                                 | Jacob Heckum            | Vidhu Vinod Chopra           |                                                                                |\n",
      "| 2015   | The Driftless Area                            | Pierre                  | Zachary Sluser               |                                                                                |\n",
      "| 2015   | Green Room                                    | Pat                     | Jeremy Saulnier              |                                                                                |\n",
      "| 2015   | Court of Conscience                           | Father James            | James Haven                  | Short film [60][61]                                                            |\n",
      "| 2015   | Unity                                         | Narrator                | Shaun Monson                 | Documentary [62]                                                               |\n",
      "| 2016   | Star Trek Beyond                              | Pavel Chekov            | Justin Lin                   | Posthumous release; Dedicated to                                               |\n",
      "| 2016   | Porto                                         | Jake Kleeman            | Gabe Klinger                 | Posthumous release; Dedicated to                                               |\n",
      "| 2017   | Thoroughbreds                                 | Tim                     | Cory Finley                  | Posthumous release; Dedicated to                                               |\n",
      "| 2017   | Rememory                                      | Todd                    | Mark Palansky                | Posthumous release; Dedicated to                                               |\n",
      "| 2017   | We Don't Belong Here                          | Maxwell Green           | Peer Pedersen                | Posthumous release; Dedicated to                                               |\n",
      "| 2019   | Love, Antosha                                 | Himself                 | Garret Price                 | Archive footage; documentary about Yelchin's life                              |\n",
      "\n",
      "Shape: (47, 5)\n",
      "\n",
      "table_idx:  659dfd3e5c22a64d7597cb50c6fc455e_table_0\n",
      "is_full_table:  False\n",
      "page_content: \n",
      " | 2015   | The Driftless Area                            | Pierre                  | Zachary Sluser               |                                                                                |\n",
      "| 2015   | Green Room                                    | Pat                     | Jeremy Saulnier              |                                                                                |\n",
      "| 2015   | Court of Conscience                           | Father James            | James Haven                  | Short film [60][61]                                                            |\n",
      "| 2015   | Unity                                         | Narrator                | Shaun Monson                 | Documentary [62]                                                               |\n",
      "| 2016   | Star Trek Beyond                              | Pavel Chekov            | Justin Lin                   | Posthumous release; Dedicated to                                               |\n",
      "table_idx:  659dfd3e5c22a64d7597cb50c6fc455e_table_0\n",
      "is_full_table:  False\n",
      "page_content: \n",
      " | 2016   | Star Trek Beyond                              | Pavel Chekov            | Justin Lin                   | Posthumous release; Dedicated to                                               |\n",
      "| 2016   | Porto                                         | Jake Kleeman            | Gabe Klinger                 | Posthumous release; Dedicated to                                               |\n",
      "| 2017   | Thoroughbreds                                 | Tim                     | Cory Finley                  | Posthumous release; Dedicated to                                               |\n",
      "| 2017   | Rememory                                      | Todd                    | Mark Palansky                | Posthumous release; Dedicated to                                               |\n",
      "| 2017   | We Don't Belong Here                          | Maxwell Green           | Peer Pedersen                | Posthumous release; Dedicated to                                               |\n"
     ]
    }
   ],
   "source": [
    "for chunk in relevant_chunks:\n",
    "    print(\"table_idx: \", chunk[0].metadata['source_table_idx'])\n",
    "    print(\"is_full_table: \", chunk[0].metadata['is_full_table'])\n",
    "    print(\"page_content: \\n\", chunk[0].page_content)"
   ]
  },
  {
   "cell_type": "code",
   "execution_count": null,
   "metadata": {},
   "outputs": [],
   "source": []
  }
 ],
 "metadata": {
  "kernelspec": {
   "display_name": "env",
   "language": "python",
   "name": "python3"
  },
  "language_info": {
   "codemirror_mode": {
    "name": "ipython",
    "version": 3
   },
   "file_extension": ".py",
   "mimetype": "text/x-python",
   "name": "python",
   "nbconvert_exporter": "python",
   "pygments_lexer": "ipython3",
   "version": "3.10.16"
  }
 },
 "nbformat": 4,
 "nbformat_minor": 2
}
