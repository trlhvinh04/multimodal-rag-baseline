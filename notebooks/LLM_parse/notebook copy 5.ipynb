{
 "cells": [
  {
   "cell_type": "code",
   "execution_count": 3,
   "id": "e3f1dc7b",
   "metadata": {},
   "outputs": [
    {
     "name": "stdout",
     "output_type": "stream",
     "text": [
      "c:\\Users\\Admin\\Data\\multimodal-rag-baseline\n"
     ]
    }
   ],
   "source": [
    "import sys,os\n",
    "__script_path=os.path.abspath(globals().get('__file__','.'))\n",
    "__script_dir = os.path.dirname(__script_path)\n",
    "root_dir = os.path.abspath(f'{__script_dir}/..')\n",
    "print(root_dir)\n",
    "for lib in [root_dir][::-1]:\n",
    "    if lib in sys.path:\n",
    "        sys.path.remove(lib)\n",
    "    sys.path.insert(0,lib)\n"
   ]
  },
  {
   "cell_type": "code",
   "execution_count": 11,
   "id": "d7b42f93",
   "metadata": {},
   "outputs": [
    {
     "data": {
      "text/plain": [
       "True"
      ]
     },
     "execution_count": 11,
     "metadata": {},
     "output_type": "execute_result"
    }
   ],
   "source": [
    "from configs.config import *\n",
    "from libs.common import *\n",
    "from utils.mongodb_connection import *\n",
    "from utils.rag_utils import *\n",
    "from utils.format_utils import *\n",
    "load_dotenv(find_dotenv())"
   ]
  },
  {
   "cell_type": "code",
   "execution_count": null,
   "id": "f593e971",
   "metadata": {},
   "outputs": [],
   "source": [
    "mongo_uri = os.getenv('MONGO_URI')\n",
    "GEMINI_API_KEY = os.getenv('GEMINI_API_KEY')\n",
    "collection = \"kyanon_digital\"\n",
    "\n",
    "mongo_client = get_mongo_client(mongo_uri)\n",
    "db = mongo_client['Kyanon']\n",
    "collection = db['RAG']"
   ]
  },
  {
   "cell_type": "code",
   "execution_count": null,
   "id": "2af226ce",
   "metadata": {},
   "outputs": [],
   "source": [
    "# https://huggingface.co/thenlper/gte-large\n",
    "embedding_model = SentenceTransformer(\"thenlper/gte-large\")\n",
    "embedding_model = embedding_model.to('cuda')\n",
    "\n",
    "print(\"Model is using GPU:\", next(embedding_model.parameters()).is_cuda)"
   ]
  },
  {
   "cell_type": "code",
   "execution_count": null,
   "id": "3668801c",
   "metadata": {},
   "outputs": [
    {
     "name": "stderr",
     "output_type": "stream",
     "text": [
      "c:\\Users\\Admin\\miniconda3\\envs\\AI\\lib\\site-packages\\pypdf\\_crypt_providers\\_cryptography.py:32: CryptographyDeprecationWarning: ARC4 has been moved to cryptography.hazmat.decrepit.ciphers.algorithms.ARC4 and will be removed from this module in 48.0.0.\n",
      "  from cryptography.hazmat.primitives.ciphers.algorithms import AES, ARC4\n"
     ]
    },
    {
     "name": "stdout",
     "output_type": "stream",
     "text": [
      "Tổng cộng: 10 bảng được tìm thấy.\n",
      "\n",
      "--- Bảng 1 ---\n",
      "| 0   | 1                                                 |\n",
      "|:----|:--------------------------------------------------|\n",
      "|     | Elected to the Hall of Fame on this ballot (named |\n",
      "|     | in bold italics).                                 |\n",
      "|     | Elected subsequently, as of 2025 (named in plain  |\n",
      "|     | italics).                                         |\n",
      "|     | Renominated for the 2019 BBWAA election by        |\n",
      "|     | adequate performance on this ballot and has not   |\n",
      "|     | subsequently been eliminated.                     |\n",
      "|     | Eliminated from annual BBWAA consideration by     |\n",
      "|     | poor performance or expiration on subsequent      |\n",
      "\n",
      "--- Bảng 2 ---\n",
      "| 0   | 1                                                 |\n",
      "|:----|:--------------------------------------------------|\n",
      "|     | ballots.                                          |\n",
      "|     | Eliminated from annual BBWAA consideration by     |\n",
      "|     | poor performance or expiration on this ballot.    |\n",
      "| †   | First time on the BBWAA ballot.                   |\n",
      "| *   | Eliminated from annual BBWAA consideration by     |\n",
      "|     | poor performance on this ballot (not expiration). |\n",
      "\n",
      "--- Bảng 3 ---\n",
      "| 0   | 1             | 2   |\n",
      "|:----|:--------------|:----|\n",
      "|     |               |     |\n",
      "|     |               |     |\n",
      "|     |               |     |\n",
      "|     |               |     |\n",
      "|     | Chipper Jones |     |\n",
      "\n",
      "--- Bảng 4 ---\n",
      "| 0                 | 1     | 2       | 3      | 4    |\n",
      "|:------------------|:------|:--------|:-------|:-----|\n",
      "| Player            | Votes | Percent | Change | Year |\n",
      "| Chipper Jones†    | 410   | 97.2%   | –      | 1st  |\n",
      "| Vladimir Guerrero | 392   | 92.9%   | 21.2%  | 2nd  |\n",
      "| Jim Thome†        | 379   | 89.8%   | –      | 1st  |\n",
      "| Trevor Hoffman    | 337   | 79.9%   | 5.9%   | 3rd  |\n",
      "| Edgar Martínez    | 297   | 70.4%   | 11.8%  | 9th  |\n",
      "| Mike Mussina      | 268   | 63.5%   | 11.7%  | 5th  |\n",
      "| Roger Clemens     | 242   | 57.3%   | 3.2%   | 6th  |\n",
      "| Barry Bonds       | 238   | 56.4%   | 2.6%   | 6th  |\n",
      "| Curt Schilling    | 216   | 51.2%   | 6.2%   | 6th  |\n",
      "| Omar Vizquel†     | 156   | 37.0%   | –      | 1st  |\n",
      "| Larry Walker      | 144   | 34.1%   | 12.2%  | 8th  |\n",
      "| Fred McGriff      | 98    | 23.2%   | 1.5%   | 9th  |\n",
      "| Manny Ramírez     | 93    | 22.0%   | 1.8%   | 2nd  |\n",
      "| Jeff Kent         | 61    | 14.5%   | 2.2%   | 5th  |\n",
      "| Gary Sheffield    | 47    | 11.1%   | 2.2%   | 4th  |\n",
      "\n",
      "--- Bảng 5 ---\n",
      "| 0                 | 1   | 2   |\n",
      "|:------------------|:----|:----|\n",
      "| Vladimir Guerrero |     |     |\n",
      "|                   |     |     |\n",
      "|                   |     |     |\n",
      "\n",
      "--- Bảng 6 ---\n",
      "| 0                    |   1 | 2     | 3    | 4   |\n",
      "|:---------------------|----:|:------|:-----|:----|\n",
      "| Billy Wagner         |  47 | 11.1% | 0.9% | 3rd |\n",
      "| Scott Rolen†         |  43 | 10.2% | –    | 1st |\n",
      "| Sammy Sosa           |  33 | 7.8%  | 0.8% | 6th |\n",
      "| Andruw Jones†        |  31 | 7.3%  | –    | 1st |\n",
      "| Jamie Moyer†*        |  10 | 2.4%  | –    | 1st |\n",
      "| Johan Santana†*      |  10 | 2.4%  | –    | 1st |\n",
      "| Johnny Damon†*       |   8 | 1.9%  | –    | 1st |\n",
      "| Hideki Matsui†*      |   4 | 0.9%  | –    | 1st |\n",
      "| Chris Carpenter†*    |   2 | 0.5%  | –    | 1st |\n",
      "| Kerry Wood†*         |   2 | 0.5%  | –    | 1st |\n",
      "| Liván Hernández†*    |   1 | 0.2%  | –    | 1st |\n",
      "| Carlos Lee†*         |   1 | 0.2%  | –    | 1st |\n",
      "| Orlando Hudson†*     |   0 | 0%    | –    | 1st |\n",
      "| Aubrey Huff†*        |   0 | 0%    | –    | 1st |\n",
      "| Jason Isringhausen†* |   0 | 0%    | –    | 1st |\n",
      "| Brad Lidge†*         |   0 | 0%    | –    | 1st |\n",
      "| Kevin Millwood†*     |   0 | 0%    | –    | 1st |\n",
      "| Carlos Zambrano†*    |   0 | 0%    | –    | 1st |\n",
      "\n",
      "--- Bảng 7 ---\n",
      "| 0   | 1         | 2   |\n",
      "|:----|:----------|:----|\n",
      "|     |           |     |\n",
      "|     |           |     |\n",
      "|     | Jim Thome |     |\n",
      "\n",
      "--- Bảng 8 ---\n",
      "| 0           | 1   | 2   |\n",
      "|:------------|:----|:----|\n",
      "| Jack Morris |     |     |\n",
      "|             |     |     |\n",
      "|             |     |     |\n",
      "\n",
      "--- Bảng 9 ---\n",
      "| 0             | 1         | 2     | 3       | 4    |\n",
      "|:--------------|:----------|:------|:--------|:-----|\n",
      "| Candidate     | Category  | Votes | Percent | Ref  |\n",
      "| Jack Morris   | Player    | 14    | 87.5%   | [12] |\n",
      "| Alan Trammell | Player    | 13    | 81.3%   | [12] |\n",
      "| Ted Simmons   | Player    | 11    | 68.8%   | [12] |\n",
      "| Marvin Miller | Executive | 7     | 43.8%   | [12] |\n",
      "| Steve Garvey  | Player    | <7    | –       | [12] |\n",
      "| Tommy John    | Player    | <7    | –       | [12] |\n",
      "| Don Mattingly | Player    | <7    | –       | [12] |\n",
      "| Dale Murphy   | Player    | <7    | –       | [12] |\n",
      "| Dave Parker   | Player    | <7    | –       | [12] |\n",
      "| Luis Tiant    | Player    | <7    | –       | [12] |\n",
      "\n",
      "--- Bảng 10 ---\n",
      "| 0                                                |\n",
      "|:-------------------------------------------------|\n",
      "| V · T · E                                        |\n",
      "| [show]                                           |\n",
      "| Balloting for the National Baseball Hall of Fame |\n",
      "| V · T · E                                        |\n",
      "| [show]                                           |\n",
      "| Baseball Hall of Fame Class of 2018              |\n"
     ]
    }
   ],
   "source": [
    "import camelot\n",
    "\n",
    "pdf_path = \"content.pdf\"\n",
    "\n",
    "tables = camelot.read_pdf(pdf_path, pages=\"all\", flavor='lattice')\n",
    "print(f\"Tổng cộng: {tables.n} bảng được tìm thấy.\")\n",
    "\n",
    "table_strings = []\n",
    "\n",
    "for i, table in enumerate(tables):\n",
    "    table_str = table.df.to_markdown(index=False)  # Dễ đọc hơn với index=False\n",
    "    table_strings.append(table_str)\n",
    "    print(f\"\\n--- Bảng {i + 1} ---\")\n",
    "    print(table_str)\n",
    "\n"
   ]
  },
  {
   "cell_type": "code",
   "execution_count": null,
   "id": "40faf978",
   "metadata": {},
   "outputs": [],
   "source": [
    "import requests\n",
    "import json\n",
    "\n",
    "def generate_response(prompt):\n",
    "    \"\"\"\n",
    "    Gửi prompt đến Ollama và nhận về một đoạn phản hồi hoàn chỉnh.\n",
    "    \n",
    "    Tham số:\n",
    "        prompt (str): Câu hỏi hoặc yêu cầu bạn muốn gửi đến mô hình.\n",
    "\n",
    "    Trả về:\n",
    "        str: Phản hồi hoàn chỉnh từ mô hình.\n",
    "    \"\"\"\n",
    "    full_response = \"\"\n",
    "    context = f\"\"\"\n",
    "   You are given a list of table fragments extracted from a PDF document using OCR. Some tables were split across multiple pages and therefore appear as separate fragments in the input.\n",
    "\n",
    "    TASK INSTRUCTIONS:\n",
    "    Do NOT merge any tables.\n",
    "    For each table fragment , provide a clear and concise summary that includes:\n",
    "    Number of columns\n",
    "    Presence and content of headers (if any)\n",
    "    General data pattern/type in each column (e.g., numeric, text, date, mixed)\n",
    "    Any notable features such as empty cells, repeated rows, formatting inconsistencies, etc.\n",
    "    If two or more fragments have identical structures , indicate this in the summaries.\n",
    "    Preserve original formatting — do not modify or reorder any data.\n",
    "    Please output:\n",
    "\n",
    "    A summary for each table fragment, analyze and provide a summary for each table fragment , then merge fragments with identical summaries into full tables. Return only the final merged tables and unmerged fragments in markdown format.\n",
    "    {prompt}\n",
    "    \"\"\"\n",
    "    url = \"http://localhost:11434/api/generate\"\n",
    "    payload = {\n",
    "        \"model\": \"gemma3:latest\",\n",
    "        \"prompt\": context,\n",
    "        \"stream\": True\n",
    "    }\n",
    "\n",
    "    with requests.post(url, json=payload, stream=True) as response:\n",
    "        for line in response.iter_lines():\n",
    "            if line:\n",
    "                try:\n",
    "                    data = json.loads(line)\n",
    "                    if 'response' in data:\n",
    "                        chunk = data['response']\n",
    "                        full_response += chunk\n",
    "                    if data.get('done', False):\n",
    "                        break\n",
    "                except json.JSONDecodeError:\n",
    "                    continue  \n",
    "\n",
    "    return full_response.strip()"
   ]
  },
  {
   "cell_type": "code",
   "execution_count": null,
   "id": "8b750f06",
   "metadata": {},
   "outputs": [],
   "source": [
    "for i in tables:\n",
    "    table_summary = generate_response(i.df.to_markdown(index=False))\n",
    "    embedding = get_embedding(table_summary, embedding_model)\n",
    "    \n",
    "    print(f\"\\n--- Tóm tắt bảng {i + 1} ---\")\n",
    "    chunk_tables = []\n",
    "    \n",
    "    document = {\n",
    "        \"embedding\": embedding,\n",
    "        \"content\": {\n",
    "            \"table\": i.df.to_markdown(index=False),\n",
    "            \"summary\": table_summary\n",
    "        }\n",
    "            \n",
    "    }\n",
    "    collection.insert_one(document)"
   ]
  },
  {
   "cell_type": "code",
   "execution_count": null,
   "id": "48ca6334",
   "metadata": {},
   "outputs": [],
   "source": [
    "all_tables_combined = \"\"\n",
    "\n",
    "for i, table in enumerate(tables):\n",
    "    table_str = table.df.to_markdown(index=False)  \n",
    "    all_tables_combined += f\"\\n\\n--- Bảng {i + 1} ---\\n\"\n",
    "    all_tables_combined += table_str\n",
    "\n",
    "\n",
    "\n",
    "print(\"\\n--- Toàn bộ bảng đã gộp ---\")\n",
    "print(all_tables_combined)"
   ]
  },
  {
   "cell_type": "code",
   "execution_count": null,
   "id": "d8501e98",
   "metadata": {},
   "outputs": [],
   "source": [
    "query = \"What is The BBWAA election rules?\"\n",
    "source_information = get_search_result(embedding_model, query.lower(), collection)\n",
    "source_information"
   ]
  },
  {
   "cell_type": "code",
   "execution_count": null,
   "id": "e8818a2e",
   "metadata": {},
   "outputs": [],
   "source": [
    "combined_information = f\"Become an expert on the concepts on Wikipedia. Customer's question: {query}\\nAnswer the question based on the following document information: {source_information}.\"\n",
    "print('==== LLMs Inference')\n",
    "print(combined_information)"
   ]
  },
  {
   "cell_type": "code",
   "execution_count": null,
   "id": "0d3461ff",
   "metadata": {},
   "outputs": [],
   "source": [
    "from huggingface_hub import login\n",
    "\n",
    "api_token = os.getenv('HUGGINGE_FACE_TOKEN') \n",
    "login(api_token)\n",
    "\n"
   ]
  },
  {
   "cell_type": "code",
   "execution_count": null,
   "id": "40e413b0",
   "metadata": {},
   "outputs": [],
   "source": [
    "from transformers import AutoTokenizer, AutoModelForCausalLM\n",
    "\n",
    "tokenizer = AutoTokenizer.from_pretrained(\"google/gemma-2b-it\")\n",
    "model = AutoModelForCausalLM.from_pretrained(\"google/gemma-2b-it\", device_map=\"auto\")"
   ]
  },
  {
   "cell_type": "code",
   "execution_count": null,
   "id": "5d2874ca",
   "metadata": {},
   "outputs": [],
   "source": [
    "input_ids = tokenizer(combined_information, return_tensors=\"pt\").to(\"cuda\")\n",
    "response = model.generate(**input_ids, max_new_tokens=100)\n",
    "print(tokenizer.decode(response[0]))"
   ]
  }
 ],
 "metadata": {
  "kernelspec": {
   "display_name": "kyanon_digital",
   "language": "python",
   "name": "python3"
  },
  "language_info": {
   "codemirror_mode": {
    "name": "ipython",
    "version": 3
   },
   "file_extension": ".py",
   "mimetype": "text/x-python",
   "name": "python",
   "nbconvert_exporter": "python",
   "pygments_lexer": "ipython3",
   "version": "3.10.16"
  }
 },
 "nbformat": 4,
 "nbformat_minor": 5
}
