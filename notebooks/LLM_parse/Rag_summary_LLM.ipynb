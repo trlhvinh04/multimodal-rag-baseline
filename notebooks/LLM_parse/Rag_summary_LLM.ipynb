{
 "cells": [
  {
   "cell_type": "code",
   "execution_count": 3,
   "id": "e3f1dc7b",
   "metadata": {},
   "outputs": [
    {
     "name": "stdout",
     "output_type": "stream",
     "text": [
      "c:\\Users\\PC\\Data\\multimodal-rag-baseline\n"
     ]
    }
   ],
   "source": [
    "import sys,os\n",
    "__script_path=os.path.abspath(globals().get('__file__','.'))\n",
    "__script_dir = os.path.dirname(__script_path)\n",
    "root_dir = os.path.abspath(f'{__script_dir}/..')\n",
    "print(root_dir)\n",
    "for lib in [root_dir][::-1]:\n",
    "    if lib in sys.path:\n",
    "        sys.path.remove(lib)\n",
    "    sys.path.insert(0,lib)\n"
   ]
  },
  {
   "cell_type": "code",
   "execution_count": 4,
   "id": "d7b42f93",
   "metadata": {},
   "outputs": [
    {
     "name": "stdout",
     "output_type": "stream",
     "text": [
      "c:/Users/PC/Data/multimodal-rag-baseline\n"
     ]
    },
    {
     "name": "stderr",
     "output_type": "stream",
     "text": [
      "c:\\ProgramData\\miniconda3\\envs\\kyanon_digital\\lib\\site-packages\\tqdm\\auto.py:21: TqdmWarning: IProgress not found. Please update jupyter and ipywidgets. See https://ipywidgets.readthedocs.io/en/stable/user_install.html\n",
      "  from .autonotebook import tqdm as notebook_tqdm\n"
     ]
    },
    {
     "data": {
      "text/plain": [
       "True"
      ]
     },
     "execution_count": 4,
     "metadata": {},
     "output_type": "execute_result"
    }
   ],
   "source": [
    "from configs.config import *\n",
    "from libs.common import *\n",
    "from utils.mongodb_connection import *\n",
    "from utils.rag_utils import *\n",
    "from utils.format_utils import *\n",
    "load_dotenv(find_dotenv())"
   ]
  },
  {
   "cell_type": "code",
   "execution_count": 5,
   "id": "f593e971",
   "metadata": {},
   "outputs": [
    {
     "name": "stdout",
     "output_type": "stream",
     "text": [
      "Connection to MongoDB successful\n"
     ]
    }
   ],
   "source": [
    "mongo_uri = os.getenv('MONGO_URI')\n",
    "GEMINI_API_KEY = os.getenv('GEMINI_API_KEY')\n",
    "collection = \"kyanon_digital\"\n",
    "\n",
    "mongo_client = get_mongo_client(mongo_uri)\n",
    "db = mongo_client['Kyanon']\n",
    "collection = db['RAG']"
   ]
  },
  {
   "cell_type": "code",
   "execution_count": 6,
   "id": "2af226ce",
   "metadata": {},
   "outputs": [
    {
     "name": "stdout",
     "output_type": "stream",
     "text": [
      "Model is using GPU: True\n"
     ]
    }
   ],
   "source": [
    "# https://huggingface.co/thenlper/gte-large\n",
    "embedding_model = SentenceTransformer(\"thenlper/gte-large\")\n",
    "embedding_model = embedding_model.to('cuda')\n",
    "\n",
    "print(\"Model is using GPU:\", next(embedding_model.parameters()).is_cuda)"
   ]
  },
  {
   "cell_type": "code",
   "execution_count": 7,
   "id": "3668801c",
   "metadata": {},
   "outputs": [
    {
     "name": "stderr",
     "output_type": "stream",
     "text": [
      "c:\\ProgramData\\miniconda3\\envs\\kyanon_digital\\lib\\site-packages\\pypdf\\_crypt_providers\\_cryptography.py:32: CryptographyDeprecationWarning: ARC4 has been moved to cryptography.hazmat.decrepit.ciphers.algorithms.ARC4 and will be removed from cryptography.hazmat.primitives.ciphers.algorithms in 48.0.0.\n",
      "  from cryptography.hazmat.primitives.ciphers.algorithms import AES, ARC4\n"
     ]
    },
    {
     "name": "stdout",
     "output_type": "stream",
     "text": [
      "Tổng cộng: 10 bảng được tìm thấy.\n",
      "\n",
      "--- Bảng 1 ---\n",
      "| 0   | 1                                                 |\n",
      "|:----|:--------------------------------------------------|\n",
      "|     | Elected to the Hall of Fame on this ballot (named |\n",
      "|     | in bold italics).                                 |\n",
      "|     | Elected subsequently, as of 2025 (named in plain  |\n",
      "|     | italics).                                         |\n",
      "|     | Renominated for the 2019 BBWAA election by        |\n",
      "|     | adequate performance on this ballot and has not   |\n",
      "|     | subsequently been eliminated.                     |\n",
      "|     | Eliminated from annual BBWAA consideration by     |\n",
      "|     | poor performance or expiration on subsequent      |\n",
      "\n",
      "--- Bảng 2 ---\n",
      "| 0   | 1                                                 |\n",
      "|:----|:--------------------------------------------------|\n",
      "|     | ballots.                                          |\n",
      "|     | Eliminated from annual BBWAA consideration by     |\n",
      "|     | poor performance or expiration on this ballot.    |\n",
      "| †   | First time on the BBWAA ballot.                   |\n",
      "| *   | Eliminated from annual BBWAA consideration by     |\n",
      "|     | poor performance on this ballot (not expiration). |\n",
      "\n",
      "--- Bảng 3 ---\n",
      "| 0   | 1             | 2   |\n",
      "|:----|:--------------|:----|\n",
      "|     |               |     |\n",
      "|     |               |     |\n",
      "|     |               |     |\n",
      "|     |               |     |\n",
      "|     | Chipper Jones |     |\n",
      "\n",
      "--- Bảng 4 ---\n",
      "| 0                 | 1     | 2       | 3      | 4    |\n",
      "|:------------------|:------|:--------|:-------|:-----|\n",
      "| Player            | Votes | Percent | Change | Year |\n",
      "| Chipper Jones†    | 410   | 97.2%   | –      | 1st  |\n",
      "| Vladimir Guerrero | 392   | 92.9%   | 21.2%  | 2nd  |\n",
      "| Jim Thome†        | 379   | 89.8%   | –      | 1st  |\n",
      "| Trevor Hoffman    | 337   | 79.9%   | 5.9%   | 3rd  |\n",
      "| Edgar Martínez    | 297   | 70.4%   | 11.8%  | 9th  |\n",
      "| Mike Mussina      | 268   | 63.5%   | 11.7%  | 5th  |\n",
      "| Roger Clemens     | 242   | 57.3%   | 3.2%   | 6th  |\n",
      "| Barry Bonds       | 238   | 56.4%   | 2.6%   | 6th  |\n",
      "| Curt Schilling    | 216   | 51.2%   | 6.2%   | 6th  |\n",
      "| Omar Vizquel†     | 156   | 37.0%   | –      | 1st  |\n",
      "| Larry Walker      | 144   | 34.1%   | 12.2%  | 8th  |\n",
      "| Fred McGriff      | 98    | 23.2%   | 1.5%   | 9th  |\n",
      "| Manny Ramírez     | 93    | 22.0%   | 1.8%   | 2nd  |\n",
      "| Jeff Kent         | 61    | 14.5%   | 2.2%   | 5th  |\n",
      "| Gary Sheffield    | 47    | 11.1%   | 2.2%   | 4th  |\n",
      "\n",
      "--- Bảng 5 ---\n",
      "| 0                 | 1   | 2   |\n",
      "|:------------------|:----|:----|\n",
      "| Vladimir Guerrero |     |     |\n",
      "|                   |     |     |\n",
      "|                   |     |     |\n",
      "\n",
      "--- Bảng 6 ---\n",
      "| 0                    |   1 | 2     | 3    | 4   |\n",
      "|:---------------------|----:|:------|:-----|:----|\n",
      "| Billy Wagner         |  47 | 11.1% | 0.9% | 3rd |\n",
      "| Scott Rolen†         |  43 | 10.2% | –    | 1st |\n",
      "| Sammy Sosa           |  33 | 7.8%  | 0.8% | 6th |\n",
      "| Andruw Jones†        |  31 | 7.3%  | –    | 1st |\n",
      "| Jamie Moyer†*        |  10 | 2.4%  | –    | 1st |\n",
      "| Johan Santana†*      |  10 | 2.4%  | –    | 1st |\n",
      "| Johnny Damon†*       |   8 | 1.9%  | –    | 1st |\n",
      "| Hideki Matsui†*      |   4 | 0.9%  | –    | 1st |\n",
      "| Chris Carpenter†*    |   2 | 0.5%  | –    | 1st |\n",
      "| Kerry Wood†*         |   2 | 0.5%  | –    | 1st |\n",
      "| Liván Hernández†*    |   1 | 0.2%  | –    | 1st |\n",
      "| Carlos Lee†*         |   1 | 0.2%  | –    | 1st |\n",
      "| Orlando Hudson†*     |   0 | 0%    | –    | 1st |\n",
      "| Aubrey Huff†*        |   0 | 0%    | –    | 1st |\n",
      "| Jason Isringhausen†* |   0 | 0%    | –    | 1st |\n",
      "| Brad Lidge†*         |   0 | 0%    | –    | 1st |\n",
      "| Kevin Millwood†*     |   0 | 0%    | –    | 1st |\n",
      "| Carlos Zambrano†*    |   0 | 0%    | –    | 1st |\n",
      "\n",
      "--- Bảng 7 ---\n",
      "| 0   | 1         | 2   |\n",
      "|:----|:----------|:----|\n",
      "|     |           |     |\n",
      "|     |           |     |\n",
      "|     | Jim Thome |     |\n",
      "\n",
      "--- Bảng 8 ---\n",
      "| 0           | 1   | 2   |\n",
      "|:------------|:----|:----|\n",
      "| Jack Morris |     |     |\n",
      "|             |     |     |\n",
      "|             |     |     |\n",
      "\n",
      "--- Bảng 9 ---\n",
      "| 0             | 1         | 2     | 3       | 4    |\n",
      "|:--------------|:----------|:------|:--------|:-----|\n",
      "| Candidate     | Category  | Votes | Percent | Ref  |\n",
      "| Jack Morris   | Player    | 14    | 87.5%   | [12] |\n",
      "| Alan Trammell | Player    | 13    | 81.3%   | [12] |\n",
      "| Ted Simmons   | Player    | 11    | 68.8%   | [12] |\n",
      "| Marvin Miller | Executive | 7     | 43.8%   | [12] |\n",
      "| Steve Garvey  | Player    | <7    | –       | [12] |\n",
      "| Tommy John    | Player    | <7    | –       | [12] |\n",
      "| Don Mattingly | Player    | <7    | –       | [12] |\n",
      "| Dale Murphy   | Player    | <7    | –       | [12] |\n",
      "| Dave Parker   | Player    | <7    | –       | [12] |\n",
      "| Luis Tiant    | Player    | <7    | –       | [12] |\n",
      "\n",
      "--- Bảng 10 ---\n",
      "| 0                                                |\n",
      "|:-------------------------------------------------|\n",
      "| V · T · E                                        |\n",
      "| [show]                                           |\n",
      "| Balloting for the National Baseball Hall of Fame |\n",
      "| V · T · E                                        |\n",
      "| [show]                                           |\n",
      "| Baseball Hall of Fame Class of 2018              |\n"
     ]
    }
   ],
   "source": [
    "import camelot\n",
    "\n",
    "pdf_path = \"content.pdf\"\n",
    "\n",
    "tables = camelot.read_pdf(pdf_path, pages=\"all\", flavor='lattice')\n",
    "print(f\"Tổng cộng: {tables.n} bảng được tìm thấy.\")\n",
    "\n",
    "table_strings = []\n",
    "\n",
    "for i, table in enumerate(tables):\n",
    "    table_str = table.df.to_markdown(index=False)  # Dễ đọc hơn với index=False\n",
    "    table_strings.append(table_str)\n",
    "    print(f\"\\n--- Bảng {i + 1} ---\")\n",
    "    print(table_str)\n",
    "\n"
   ]
  },
  {
   "cell_type": "code",
   "execution_count": 14,
   "id": "40faf978",
   "metadata": {},
   "outputs": [],
   "source": [
    "import requests\n",
    "import json\n",
    "\n",
    "def generate_response(prompt):\n",
    "    \"\"\"\n",
    "    Gửi prompt đến Ollama và nhận về một đoạn phản hồi hoàn chỉnh.\n",
    "    \n",
    "    Tham số:\n",
    "        prompt (str): Câu hỏi hoặc yêu cầu bạn muốn gửi đến mô hình.\n",
    "\n",
    "    Trả về:\n",
    "        str: Phản hồi hoàn chỉnh từ mô hình.\n",
    "    \"\"\"\n",
    "    full_response = \"\"\n",
    "    context = f\"\"\"\n",
    "    You are given a single table fragment extracted from a PDF document using OCR. This fragment may be part of a larger table that was split across multiple pages due to formatting or page layout.\n",
    "    Your task is to generate a detailed and comprehensive summary of the content in this table fragment.\n",
    "    The summary should clearly describe:\n",
    "        The main subject or topic of the table\n",
    "        Key columns and their meanings\n",
    "        Important patterns, trends, or observations in the data\n",
    "        Any notable values or anomalies\n",
    "        Contextual information needed to understand the data\n",
    "    Write the summary in 1–3 full sentences , using clear and precise language.\n",
    "    If applicable, mention that this fragment appears to be part of a larger table, and include any inferred continuity from the data.\n",
    "    {prompt}\n",
    "    \"\"\"\n",
    "    url = \"http://localhost:11434/api/generate\"\n",
    "    payload = {\n",
    "        \"model\": \"gemma:latest\",\n",
    "        \"prompt\": context,\n",
    "        \"stream\": True\n",
    "    }\n",
    "\n",
    "    with requests.post(url, json=payload, stream=True) as response:\n",
    "        for line in response.iter_lines():\n",
    "            if line:\n",
    "                try:\n",
    "                    data = json.loads(line)\n",
    "                    if 'response' in data:\n",
    "                        chunk = data['response']\n",
    "                        full_response += chunk\n",
    "                    if data.get('done', False):\n",
    "                        break\n",
    "                except json.JSONDecodeError:\n",
    "                    continue  \n",
    "\n",
    "    return full_response.strip()"
   ]
  },
  {
   "cell_type": "code",
   "execution_count": 15,
   "id": "8b750f06",
   "metadata": {},
   "outputs": [
    {
     "name": "stdout",
     "output_type": "stream",
     "text": [
      "  0                                                  1\n",
      "0    Elected to the Hall of Fame on this ballot (na...\n",
      "1    Elected subsequently, as of 2025 (named in pla...\n",
      "2    Renominated for the 2019 BBWAA election by\\nad...\n",
      "3    Eliminated from annual BBWAA consideration by\\...\n",
      "This table fragment documents the selection process for the Baseball Hall of Fame, highlighting the performance of candidates over multiple years. Key columns include the candidate's name and their status in various elections. Notable observations are the inclusion of bold italics for inaugural inductees and the subsequent elimination of candidates based on poor performance or expiration. This fragment appears to be part of a larger table, suggesting that additional rows exist with further details about the nominated candidates.\n",
      "   0                                                  1\n",
      "0                                              ballots.\n",
      "1     Eliminated from annual BBWAA consideration by\\...\n",
      "2  †                    First time on the BBWAA ballot.\n",
      "3  *  Eliminated from annual BBWAA consideration by\\...\n",
      "This table fragment details the outcomes of ballots considered by the Baseball Writers' Association of America (BBWAA). Key columns include \"ballots\" and \"status,\" indicating whether the ballot was eliminated or first-time consideration. The data suggests that ballots were eliminated due to either poor performance or expiration.\n",
      "  0              1 2\n",
      "0                   \n",
      "1                   \n",
      "2                   \n",
      "3                   \n",
      "4    Chipper Jones  \n",
      "This table fragment appears to be part of a larger tabular dataset focusing on individuals' characteristics. Key columns include name and occupation, with additional unspecified data. The data suggests a potential correlation between occupation and name, with Chipper Jones being the only individual listed in the fragment. Further data is required to determine any broader patterns or trends.\n",
      "                    0      1        2       3     4\n",
      "0              Player  Votes  Percent  Change  Year\n",
      "1      Chipper Jones†    410    97.2%       –   1st\n",
      "2   Vladimir Guerrero    392    92.9%   21.2%   2nd\n",
      "3          Jim Thome†    379    89.8%       –   1st\n",
      "4      Trevor Hoffman    337    79.9%    5.9%   3rd\n",
      "5      Edgar Martínez    297    70.4%   11.8%   9th\n",
      "6        Mike Mussina    268    63.5%   11.7%   5th\n",
      "7       Roger Clemens    242    57.3%    3.2%   6th\n",
      "8         Barry Bonds    238    56.4%    2.6%   6th\n",
      "9      Curt Schilling    216    51.2%    6.2%   6th\n",
      "10      Omar Vizquel†    156    37.0%       –   1st\n",
      "11       Larry Walker    144    34.1%   12.2%   8th\n",
      "12       Fred McGriff     98    23.2%    1.5%   9th\n",
      "13      Manny Ramírez     93    22.0%    1.8%   2nd\n",
      "14          Jeff Kent     61    14.5%    2.2%   5th\n",
      "15     Gary Sheffield     47    11.1%    2.2%   4th\n",
      "This table fragment presents voting data for players in a particular league. Key columns include Votes, Percent, Change, Year. Notable observations are the high voting percentages for Chipper Jones, Vladimir Guerrero, and Jim Thome, who received over 90% of the votes. The data suggests a significant shift in voting patterns from previous years, with several players experiencing substantial increases in their vote share.\n",
      "                   0 1 2\n",
      "0  Vladimir Guerrero    \n",
      "1                       \n",
      "2                       \n",
      "This table fragment appears to be a portion of a larger tabular dataset containing biographical information about individuals. Key columns likely include the name of the person and potentially other relevant attributes. The data suggests the presence of multiple rows with additional individuals' details, though the complete table is not provided in the given fragment.\n",
      "                       0   1      2     3    4\n",
      "0           Billy Wagner  47  11.1%  0.9%  3rd\n",
      "1           Scott Rolen†  43  10.2%     –  1st\n",
      "2             Sammy Sosa  33   7.8%  0.8%  6th\n",
      "3          Andruw Jones†  31   7.3%     –  1st\n",
      "4          Jamie Moyer†*  10   2.4%     –  1st\n",
      "5        Johan Santana†*  10   2.4%     –  1st\n",
      "6         Johnny Damon†*   8   1.9%     –  1st\n",
      "7        Hideki Matsui†*   4   0.9%     –  1st\n",
      "8      Chris Carpenter†*   2   0.5%     –  1st\n",
      "9           Kerry Wood†*   2   0.5%     –  1st\n",
      "10     Liván Hernández†*   1   0.2%     –  1st\n",
      "11          Carlos Lee†*   1   0.2%     –  1st\n",
      "12      Orlando Hudson†*   0     0%     –  1st\n",
      "13         Aubrey Huff†*   0     0%     –  1st\n",
      "14  Jason Isringhausen†*   0     0%     –  1st\n",
      "15          Brad Lidge†*   0     0%     –  1st\n",
      "16      Kevin Millwood†*   0     0%     –  1st\n",
      "17     Carlos Zambrano†*   0     0%     –  1st\n",
      "This table fragment depicts the performance of various baseball players based on statistics such as batting average, home runs, and fielding percentage. Notable performances include Scott Rolen's first place in batting average and Andruw Jones' first place in home runs. The data suggests a correlation between batting average and home run production, with players like Scott Rolen and Andruw Jones performing exceptionally in both categories.\n",
      "  0          1 2\n",
      "0               \n",
      "1               \n",
      "2    Jim Thome  \n",
      "This fragment appears to be a partial representation of a larger table. It shows statistics related to baseball players, with columns likely indicating Player Name and Home Runs. Notable data points include Jim Thome's impressive home run count of 1.\n",
      "             0 1 2\n",
      "0  Jack Morris    \n",
      "1                 \n",
      "2                 \n",
      "This table fragment appears to be a portion of a larger tabular dataset focusing on individuals named Jack Morris. It contains three columns, though their titles are not explicitly stated. The data suggests that the first column may contain names, while the remaining columns likely hold corresponding values or attributes. Further information is needed to fully summarize the content and identify any notable patterns or anomalies.\n",
      "                0          1      2        3     4\n",
      "0       Candidate   Category  Votes  Percent   Ref\n",
      "1     Jack Morris     Player     14    87.5%  [12]\n",
      "2   Alan Trammell     Player     13    81.3%  [12]\n",
      "3     Ted Simmons     Player     11    68.8%  [12]\n",
      "4   Marvin Miller  Executive      7    43.8%  [12]\n",
      "5    Steve Garvey     Player     <7        –  [12]\n",
      "6      Tommy John     Player     <7        –  [12]\n",
      "7   Don Mattingly     Player     <7        –  [12]\n",
      "8     Dale Murphy     Player     <7        –  [12]\n",
      "9     Dave Parker     Player     <7        –  [12]\n",
      "10     Luis Tiant     Player     <7        –  [12]\n",
      "This table fragment depicts an election results summary, showing the voting preferences of various candidates. Key columns include Candidate, Category, Votes, and Percent. Notably, Jack Morris received the highest percentage of votes (87.5%) among the Player category. Given the presence of other rows with votes less than 7, it is likely that this fragment represents a larger table containing additional candidates and their voting statistics.\n",
      "                                                   0\n",
      "0  V · T · E\\n[show]\\nBalloting for the National ...\n",
      "1  V · T · E\\n[show]\\nBaseball Hall of Fame Class...\n",
      "This table fragment presents the results of voting for the Baseball Hall of Fame Class of 2018. Key columns include the nominee's name and the number of votes received. Notable results are that Mariano Rivera received the most votes, while Jeff Bagwell and Mike Mussick fell short of election. This fragment appears to be part of a larger table with additional rows presenting the voting results for other Hall of Fame candidates.\n"
     ]
    }
   ],
   "source": [
    "for i in tables:\n",
    "    print(i.df)\n",
    "    table_summary = generate_response(i.df.to_markdown(index=False))\n",
    "    print(table_summary)\n",
    "    embedding = get_embedding(embedding_model,table_summary)\n",
    "    \n",
    "    chunk_tables = []\n",
    "    \n",
    "    document = {\n",
    "        \"embedding\": embedding,\n",
    "        \"content\": {\n",
    "            \"table\": i.df.to_markdown(index=False),\n",
    "            \"summary\": table_summary\n",
    "        }\n",
    "            \n",
    "    }\n",
    "    collection.insert_one(document)"
   ]
  },
  {
   "cell_type": "code",
   "execution_count": null,
   "id": "48ca6334",
   "metadata": {},
   "outputs": [],
   "source": [
    "all_tables_combined = \"\"\n",
    "\n",
    "for i, table in enumerate(tables):\n",
    "    table_str = table.df.to_markdown(index=False)  \n",
    "    all_tables_combined += f\"\\n\\n--- Bảng {i + 1} ---\\n\"\n",
    "    all_tables_combined += table_str\n",
    "\n",
    "\n",
    "\n",
    "print(\"\\n--- Toàn bộ bảng đã gộp ---\")\n",
    "print(all_tables_combined)"
   ]
  },
  {
   "cell_type": "code",
   "execution_count": null,
   "id": "d8501e98",
   "metadata": {},
   "outputs": [],
   "source": [
    "query = \"What is The BBWAA election rules?\"\n",
    "source_information = get_search_result(embedding_model, query.lower(), collection)\n",
    "source_information"
   ]
  },
  {
   "cell_type": "code",
   "execution_count": null,
   "id": "e8818a2e",
   "metadata": {},
   "outputs": [],
   "source": [
    "combined_information = f\"Become an expert on the concepts on Wikipedia. Customer's question: {query}\\nAnswer the question based on the following document information: {source_information}.\"\n",
    "print('==== LLMs Inference')\n",
    "print(combined_information)"
   ]
  },
  {
   "cell_type": "code",
   "execution_count": null,
   "id": "0d3461ff",
   "metadata": {},
   "outputs": [],
   "source": [
    "from huggingface_hub import login\n",
    "\n",
    "api_token = os.getenv('HUGGINGE_FACE_TOKEN') \n",
    "login(api_token)\n",
    "\n"
   ]
  },
  {
   "cell_type": "code",
   "execution_count": null,
   "id": "40e413b0",
   "metadata": {},
   "outputs": [],
   "source": [
    "from transformers import AutoTokenizer, AutoModelForCausalLM\n",
    "\n",
    "tokenizer = AutoTokenizer.from_pretrained(\"google/gemma-2b-it\")\n",
    "model = AutoModelForCausalLM.from_pretrained(\"google/gemma-2b-it\", device_map=\"auto\")"
   ]
  },
  {
   "cell_type": "code",
   "execution_count": null,
   "id": "5d2874ca",
   "metadata": {},
   "outputs": [],
   "source": [
    "input_ids = tokenizer(combined_information, return_tensors=\"pt\").to(\"cuda\")\n",
    "response = model.generate(**input_ids, max_new_tokens=100)\n",
    "print(tokenizer.decode(response[0]))"
   ]
  }
 ],
 "metadata": {
  "kernelspec": {
   "display_name": "kyanon_digital",
   "language": "python",
   "name": "python3"
  },
  "language_info": {
   "codemirror_mode": {
    "name": "ipython",
    "version": 3
   },
   "file_extension": ".py",
   "mimetype": "text/x-python",
   "name": "python",
   "nbconvert_exporter": "python",
   "pygments_lexer": "ipython3",
   "version": "3.10.16"
  }
 },
 "nbformat": 4,
 "nbformat_minor": 5
}
