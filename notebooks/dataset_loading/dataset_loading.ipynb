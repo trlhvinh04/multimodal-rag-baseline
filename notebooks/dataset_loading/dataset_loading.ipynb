{
 "cells": [
  {
   "cell_type": "code",
   "execution_count": 1,
   "id": "9538f6ad",
   "metadata": {},
   "outputs": [
    {
     "name": "stdout",
     "output_type": "stream",
     "text": [
      "c:\\Users\\Admin\\Data\\multimodal-rag-baseline\n"
     ]
    }
   ],
   "source": [
    "import sys,os\n",
    "__script_path=os.path.abspath(globals().get('__file__','.'))\n",
    "__script_dir = os.path.dirname(__script_path)\n",
    "root_dir = os.path.abspath(f'{__script_dir}/..')\n",
    "print(root_dir)\n",
    "for lib in [root_dir][::-1]:\n",
    "    if lib in sys.path:\n",
    "        sys.path.remove(lib)\n",
    "    sys.path.insert(0,lib)\n"
   ]
  },
  {
   "cell_type": "code",
   "execution_count": 2,
   "id": "54106c69",
   "metadata": {},
   "outputs": [
    {
     "name": "stdout",
     "output_type": "stream",
     "text": [
      "c:/Users/Admin/Data/multimodal-rag-baseline\n"
     ]
    },
    {
     "name": "stderr",
     "output_type": "stream",
     "text": [
      "c:\\Users\\Admin\\miniconda3\\envs\\kyanon_digital\\lib\\site-packages\\tqdm\\auto.py:21: TqdmWarning: IProgress not found. Please update jupyter and ipywidgets. See https://ipywidgets.readthedocs.io/en/stable/user_install.html\n",
      "  from .autonotebook import tqdm as notebook_tqdm\n"
     ]
    },
    {
     "data": {
      "text/plain": [
       "True"
      ]
     },
     "execution_count": 2,
     "metadata": {},
     "output_type": "execute_result"
    }
   ],
   "source": [
    "from configs.config import *\n",
    "from libs.common import *\n",
    "load_dotenv(find_dotenv())"
   ]
  },
  {
   "cell_type": "code",
   "execution_count": null,
   "id": "1998fdf6",
   "metadata": {},
   "outputs": [
    {
     "name": "stderr",
     "output_type": "stream",
     "text": [
      "Downloading data:   0%|          | 0/30 [00:00<?, ?files/s]c:\\Users\\Admin\\miniconda3\\envs\\kyanon_digital\\lib\\site-packages\\huggingface_hub\\file_download.py:143: UserWarning: `huggingface_hub` cache-system uses symlinks by default to efficiently store duplicated files but your machine does not support them in C:\\Users\\Admin\\.cache\\huggingface\\hub\\datasets--hwyin04--table-cross-page. Caching files will still work but in a degraded version that might require more space on your disk. This warning can be disabled by setting the `HF_HUB_DISABLE_SYMLINKS_WARNING` environment variable. For more details, see https://huggingface.co/docs/huggingface_hub/how-to-cache#limitations.\n",
      "To support symlinks on Windows, you either need to activate Developer Mode or to run Python as an administrator. In order to activate developer mode, see this article: https://docs.microsoft.com/en-us/windows/apps/get-started/enable-your-device-for-development\n",
      "  warnings.warn(message)\n",
      "Downloading data: 100%|██████████| 30/30 [00:05<00:00,  5.24files/s]\n",
      "Generating train split: 100%|██████████| 30/30 [00:00<00:00, 411.25 examples/s]\n",
      "Creating json from Arrow format: 100%|██████████| 1/1 [00:00<00:00, 165.55ba/s]"
     ]
    },
    {
     "name": "stdout",
     "output_type": "stream",
     "text": [
      "Saved train to {data_dir}/pdf\\train.jsonl\n"
     ]
    },
    {
     "name": "stderr",
     "output_type": "stream",
     "text": [
      "\n"
     ]
    }
   ],
   "source": [
    "import os\n",
    "\n",
    "dataset = load_dataset(\"hwyin04/table-cross-page\")\n",
    "\n",
    "save_dir = f\"{data_dir}/pdf\"\n",
    "os.makedirs(save_dir, exist_ok=True)\n",
    "\n",
    "for split in dataset.keys():\n",
    "    path = os.path.join(save_dir, f\"{split}.jsonl\")\n",
    "    dataset[split].to_json(path, orient=\"records\", lines=True)\n",
    "    print(f\"Saved {split} to {path}\")\n"
   ]
  },
  {
   "cell_type": "code",
   "execution_count": 4,
   "id": "983fcf02",
   "metadata": {},
   "outputs": [
    {
     "name": "stdout",
     "output_type": "stream",
     "text": [
      "Đã tải: C:\\Users\\Admin\\.cache\\huggingface\\hub\\datasets--hwyin04--table-cross-page\\snapshots\\9e687f369e1ab5282060a543c831ad91449d66c3\\0c92f65db928c431023f59603039aa1e.pdf\n",
      "Đã tải: C:\\Users\\Admin\\.cache\\huggingface\\hub\\datasets--hwyin04--table-cross-page\\snapshots\\9e687f369e1ab5282060a543c831ad91449d66c3\\0ed7f2ecfd607a42c745b0889e500ecf.pdf\n",
      "Đã tải: C:\\Users\\Admin\\.cache\\huggingface\\hub\\datasets--hwyin04--table-cross-page\\snapshots\\9e687f369e1ab5282060a543c831ad91449d66c3\\0f2eac764c8d04d8d13d8a999342d106.pdf\n",
      "Đã tải: C:\\Users\\Admin\\.cache\\huggingface\\hub\\datasets--hwyin04--table-cross-page\\snapshots\\9e687f369e1ab5282060a543c831ad91449d66c3\\2c98e99a08ec5392d50e60370d871319.pdf\n",
      "Đã tải: C:\\Users\\Admin\\.cache\\huggingface\\hub\\datasets--hwyin04--table-cross-page\\snapshots\\9e687f369e1ab5282060a543c831ad91449d66c3\\2d64938a8d3e12dbb709f760ecd53e14.pdf\n",
      "Đã tải: C:\\Users\\Admin\\.cache\\huggingface\\hub\\datasets--hwyin04--table-cross-page\\snapshots\\9e687f369e1ab5282060a543c831ad91449d66c3\\2e1b34aa28e718f66bfe600045ed7387.pdf\n",
      "Đã tải: C:\\Users\\Admin\\.cache\\huggingface\\hub\\datasets--hwyin04--table-cross-page\\snapshots\\9e687f369e1ab5282060a543c831ad91449d66c3\\3e8e568ec576f0189cee0b6032720054.pdf\n",
      "Đã tải: C:\\Users\\Admin\\.cache\\huggingface\\hub\\datasets--hwyin04--table-cross-page\\snapshots\\9e687f369e1ab5282060a543c831ad91449d66c3\\4bd9336ffdb1593d71a919b7e7d68995.pdf\n",
      "Đã tải: C:\\Users\\Admin\\.cache\\huggingface\\hub\\datasets--hwyin04--table-cross-page\\snapshots\\9e687f369e1ab5282060a543c831ad91449d66c3\\4f37fc393094547bbbe030cecedf9a3b.pdf\n",
      "Đã tải: C:\\Users\\Admin\\.cache\\huggingface\\hub\\datasets--hwyin04--table-cross-page\\snapshots\\9e687f369e1ab5282060a543c831ad91449d66c3\\5b85b2aeded2bfc01d42838cf6dcf14f.pdf\n",
      "Đã tải: C:\\Users\\Admin\\.cache\\huggingface\\hub\\datasets--hwyin04--table-cross-page\\snapshots\\9e687f369e1ab5282060a543c831ad91449d66c3\\5d0256b8f864e3de440b6c6a34d9e0ad.pdf\n",
      "Đã tải: C:\\Users\\Admin\\.cache\\huggingface\\hub\\datasets--hwyin04--table-cross-page\\snapshots\\9e687f369e1ab5282060a543c831ad91449d66c3\\5e6305557524116548350cfd1e5eae05.pdf\n",
      "Đã tải: C:\\Users\\Admin\\.cache\\huggingface\\hub\\datasets--hwyin04--table-cross-page\\snapshots\\9e687f369e1ab5282060a543c831ad91449d66c3\\6d8988e7c92d06dace6ce494457ea7b1.pdf\n",
      "Đã tải: C:\\Users\\Admin\\.cache\\huggingface\\hub\\datasets--hwyin04--table-cross-page\\snapshots\\9e687f369e1ab5282060a543c831ad91449d66c3\\6eb526ec1bff14d1a28daddca94ed6d6.pdf\n",
      "Đã tải: C:\\Users\\Admin\\.cache\\huggingface\\hub\\datasets--hwyin04--table-cross-page\\snapshots\\9e687f369e1ab5282060a543c831ad91449d66c3\\7aa2e2962c982a0e29c76044c623092b.pdf\n",
      "Đã tải: C:\\Users\\Admin\\.cache\\huggingface\\hub\\datasets--hwyin04--table-cross-page\\snapshots\\9e687f369e1ab5282060a543c831ad91449d66c3\\7c9914edb06d045afdde4c05e6dfef0d.pdf\n",
      "Đã tải: C:\\Users\\Admin\\.cache\\huggingface\\hub\\datasets--hwyin04--table-cross-page\\snapshots\\9e687f369e1ab5282060a543c831ad91449d66c3\\8a1bed9f8c8b3816ce616b0f47932e01.pdf\n",
      "Đã tải: C:\\Users\\Admin\\.cache\\huggingface\\hub\\datasets--hwyin04--table-cross-page\\snapshots\\9e687f369e1ab5282060a543c831ad91449d66c3\\8c0badf38fae028a2e8ff158d1cbc18f.pdf\n",
      "Đã tải: C:\\Users\\Admin\\.cache\\huggingface\\hub\\datasets--hwyin04--table-cross-page\\snapshots\\9e687f369e1ab5282060a543c831ad91449d66c3\\8dc4e3037bd994e49667a6ce1b94617b.pdf\n",
      "Đã tải: C:\\Users\\Admin\\.cache\\huggingface\\hub\\datasets--hwyin04--table-cross-page\\snapshots\\9e687f369e1ab5282060a543c831ad91449d66c3\\b014b8ca3c8ee543b655c29747cc6090.pdf\n",
      "Đã tải: C:\\Users\\Admin\\.cache\\huggingface\\hub\\datasets--hwyin04--table-cross-page\\snapshots\\9e687f369e1ab5282060a543c831ad91449d66c3\\b019834c8bdc9fe0c6f8ad09a08cd867.pdf\n",
      "Đã tải: C:\\Users\\Admin\\.cache\\huggingface\\hub\\datasets--hwyin04--table-cross-page\\snapshots\\9e687f369e1ab5282060a543c831ad91449d66c3\\b0ec8efd43727a8c7614883cdec72101.pdf\n",
      "Đã tải: C:\\Users\\Admin\\.cache\\huggingface\\hub\\datasets--hwyin04--table-cross-page\\snapshots\\9e687f369e1ab5282060a543c831ad91449d66c3\\b15a781d293ae9b8c8d19540d95e7fd5.pdf\n",
      "Đã tải: C:\\Users\\Admin\\.cache\\huggingface\\hub\\datasets--hwyin04--table-cross-page\\snapshots\\9e687f369e1ab5282060a543c831ad91449d66c3\\b4c55e2918d743c7755992b0803d2dbe.pdf\n",
      "Đã tải: C:\\Users\\Admin\\.cache\\huggingface\\hub\\datasets--hwyin04--table-cross-page\\snapshots\\9e687f369e1ab5282060a543c831ad91449d66c3\\b5114c9d558c04aa6fc3bc9b998a42ab.pdf\n",
      "Đã tải: C:\\Users\\Admin\\.cache\\huggingface\\hub\\datasets--hwyin04--table-cross-page\\snapshots\\9e687f369e1ab5282060a543c831ad91449d66c3\\b71ccc88bc2b964767ab729ecf95940b.pdf\n",
      "Đã tải: C:\\Users\\Admin\\.cache\\huggingface\\hub\\datasets--hwyin04--table-cross-page\\snapshots\\9e687f369e1ab5282060a543c831ad91449d66c3\\c46a0e327c07d6d3a04b23f7de59b55d.pdf\n",
      "Đã tải: C:\\Users\\Admin\\.cache\\huggingface\\hub\\datasets--hwyin04--table-cross-page\\snapshots\\9e687f369e1ab5282060a543c831ad91449d66c3\\c794d4a64dadb6c4ea02e1797af86cbe.pdf\n",
      "Đã tải: C:\\Users\\Admin\\.cache\\huggingface\\hub\\datasets--hwyin04--table-cross-page\\snapshots\\9e687f369e1ab5282060a543c831ad91449d66c3\\c935e2902adf7040a6ffe0db0f7c11e6.pdf\n",
      "Đã tải: C:\\Users\\Admin\\.cache\\huggingface\\hub\\datasets--hwyin04--table-cross-page\\snapshots\\9e687f369e1ab5282060a543c831ad91449d66c3\\cb448e90a458c49da331b4b24b61bdb7.pdf\n"
     ]
    }
   ],
   "source": [
    "\n",
    "def download_pdfs_from_jsonl(jsonl_file):\n",
    "    with open(jsonl_file, 'r') as f:\n",
    "        for line in f:\n",
    "            data = json.loads(line.strip())\n",
    "            \n",
    "            pdf_data = data.get('pdf')\n",
    "            if pdf_data and 'path' in pdf_data:\n",
    "                pdf_path = pdf_data['path']\n",
    "\n",
    "                if pdf_path:\n",
    "                    try:\n",
    "                        shutil.copy(pdf_path, save_dir)\n",
    "                        print(f\"Đã tải: {pdf_path}\")\n",
    "                    except Exception as e:\n",
    "                        print(f\"Không thể tải {pdf_path}: {e}\")\n",
    "            else:\n",
    "                print(f\"Không tìm thấy khóa 'path' trong dữ liệu: {data}\")\n",
    "\n",
    "download_pdfs_from_jsonl(f'{save_dir}/train.jsonl')\n"
   ]
  }
 ],
 "metadata": {
  "kernelspec": {
   "display_name": "kyanon_digital",
   "language": "python",
   "name": "python3"
  },
  "language_info": {
   "codemirror_mode": {
    "name": "ipython",
    "version": 3
   },
   "file_extension": ".py",
   "mimetype": "text/x-python",
   "name": "python",
   "nbconvert_exporter": "python",
   "pygments_lexer": "ipython3",
   "version": "3.10.16"
  }
 },
 "nbformat": 4,
 "nbformat_minor": 5
}
