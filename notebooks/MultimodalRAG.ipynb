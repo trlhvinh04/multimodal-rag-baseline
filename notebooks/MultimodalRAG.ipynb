{
 "cells": [
  {
   "cell_type": "code",
   "execution_count": 1,
   "metadata": {},
   "outputs": [
    {
     "name": "stdout",
     "output_type": "stream",
     "text": [
      "c:\\Users\\PC\\Data\\multimodal-rag-baseline\n"
     ]
    }
   ],
   "source": [
    "import sys,os\n",
    "__script_path=os.path.abspath(globals().get('__file__','.'))\n",
    "__script_dir = os.path.dirname(__script_path)\n",
    "root_dir = os.path.abspath(f'{__script_dir}')\n",
    "print(root_dir)\n",
    "for lib in [root_dir][::-1]:\n",
    "    if lib in sys.path:\n",
    "        sys.path.remove(lib)\n",
    "    sys.path.insert(0,lib)\n"
   ]
  },
  {
   "cell_type": "code",
   "execution_count": 2,
   "metadata": {},
   "outputs": [
    {
     "name": "stdout",
     "output_type": "stream",
     "text": [
      "c:/Users/PC/Data/multimodal-rag-baseline\n"
     ]
    },
    {
     "name": "stderr",
     "output_type": "stream",
     "text": [
      "c:\\ProgramData\\miniconda3\\envs\\kyanon_digital\\lib\\site-packages\\tqdm\\auto.py:21: TqdmWarning: IProgress not found. Please update jupyter and ipywidgets. See https://ipywidgets.readthedocs.io/en/stable/user_install.html\n",
      "  from .autonotebook import tqdm as notebook_tqdm\n"
     ]
    },
    {
     "data": {
      "text/plain": [
       "True"
      ]
     },
     "execution_count": 2,
     "metadata": {},
     "output_type": "execute_result"
    }
   ],
   "source": [
    "from configs.config import *\n",
    "from libs.common import *\n",
    "from utils.mongodb_connection import *\n",
    "from utils.rag_utils import *\n",
    "from utils.format_utils import *\n",
    "load_dotenv(find_dotenv())"
   ]
  },
  {
   "cell_type": "code",
   "execution_count": 3,
   "metadata": {},
   "outputs": [
    {
     "name": "stdout",
     "output_type": "stream",
     "text": [
      "Thu May  8 16:47:13 2025       \n",
      "+-----------------------------------------------------------------------------------------+\n",
      "| NVIDIA-SMI 560.94                 Driver Version: 560.94         CUDA Version: 12.6     |\n",
      "|-----------------------------------------+------------------------+----------------------+\n",
      "| GPU  Name                  Driver-Model | Bus-Id          Disp.A | Volatile Uncorr. ECC |\n",
      "| Fan  Temp   Perf          Pwr:Usage/Cap |           Memory-Usage | GPU-Util  Compute M. |\n",
      "|                                         |                        |               MIG M. |\n",
      "|=========================================+========================+======================|\n",
      "|   0  NVIDIA GeForce RTX 4060 Ti   WDDM  |   00000000:01:00.0  On |                  N/A |\n",
      "|  0%   52C    P2             36W /  181W |    2247MiB /  16380MiB |      4%      Default |\n",
      "|                                         |                        |                  N/A |\n",
      "+-----------------------------------------+------------------------+----------------------+\n",
      "                                                                                         \n",
      "+-----------------------------------------------------------------------------------------+\n",
      "| Processes:                                                                              |\n",
      "|  GPU   GI   CI        PID   Type   Process name                              GPU Memory |\n",
      "|        ID   ID                                                               Usage      |\n",
      "|=========================================================================================|\n",
      "|    0   N/A  N/A       996    C+G   ...cal\\Microsoft\\OneDrive\\OneDrive.exe      N/A      |\n",
      "|    0   N/A  N/A      1296    C+G   C:\\Windows\\System32\\dwm.exe                 N/A      |\n",
      "|    0   N/A  N/A      3184    C+G   ...s\\System32\\ApplicationFrameHost.exe      N/A      |\n",
      "|    0   N/A  N/A      3820    C+G   ...995_x64__8wekyb3d8bbwe\\ms-teams.exe      N/A      |\n",
      "|    0   N/A  N/A      5112    C+G   C:\\Windows\\System32\\ShellHost.exe           N/A      |\n",
      "|    0   N/A  N/A      9748    C+G   ...crosoft\\Edge\\Application\\msedge.exe      N/A      |\n",
      "|    0   N/A  N/A     10084    C+G   ...nthropicClaude\\app-0.9.3\\claude.exe      N/A      |\n",
      "|    0   N/A  N/A     11328    C+G   ...on\\136.0.3240.50\\msedgewebview2.exe      N/A      |\n",
      "|    0   N/A  N/A     13956    C+G   C:\\Windows\\explorer.exe                     N/A      |\n",
      "|    0   N/A  N/A     14396    C+G   ...nt.CBS_cw5n1h2txyewy\\SearchHost.exe      N/A      |\n",
      "|    0   N/A  N/A     14544    C+G   ...2txyewy\\StartMenuExperienceHost.exe      N/A      |\n",
      "|    0   N/A  N/A     15044    C+G   ...n\\NVIDIA app\\CEF\\NVIDIA Overlay.exe      N/A      |\n",
      "|    0   N/A  N/A     15260    C+G   ...CBS_cw5n1h2txyewy\\TextInputHost.exe      N/A      |\n",
      "|    0   N/A  N/A     16860    C+G   ...n\\NVIDIA app\\CEF\\NVIDIA Overlay.exe      N/A      |\n",
      "|    0   N/A  N/A     19020    C+G   ...ekyb3d8bbwe\\PhoneExperienceHost.exe      N/A      |\n",
      "|    0   N/A  N/A     19316    C+G   ...US\\ArmouryDevice\\asus_framework.exe      N/A      |\n",
      "|    0   N/A  N/A     19808    C+G   ...cal\\Microsoft\\OneDrive\\OneDrive.exe      N/A      |\n",
      "|    0   N/A  N/A     22992    C+G   ...ta\\Local\\Programs\\Notion\\Notion.exe      N/A      |\n",
      "|    0   N/A  N/A     23452    C+G   ...oogle\\Chrome\\Application\\chrome.exe      N/A      |\n",
      "|    0   N/A  N/A     23764    C+G   ...5n1h2txyewy\\ShellExperienceHost.exe      N/A      |\n",
      "|    0   N/A  N/A     23944    C+G   ...al\\Discord\\app-1.0.9191\\Discord.exe      N/A      |\n",
      "|    0   N/A  N/A     26332    C+G   ... Stream\\107.0.3.0\\GoogleDriveFS.exe      N/A      |\n",
      "|    0   N/A  N/A     26600    C+G   ...\\Programs\\Zalo\\Zalo-25.4.2\\Zalo.exe      N/A      |\n",
      "|    0   N/A  N/A     27840    C+G   ...25.4.2\\plugins\\capture\\ZaloCall.exe      N/A      |\n",
      "|    0   N/A  N/A     30232    C+G   ...B\\system_tray\\lghub_system_tray.exe      N/A      |\n",
      "|    0   N/A  N/A     30580    C+G   ...\\PC\\AppData\\Local\\Lark\\app\\Lark.exe      N/A      |\n",
      "|    0   N/A  N/A     33572    C+G   ...ograms\\cron-web\\Notion Calendar.exe      N/A      |\n",
      "|    0   N/A  N/A     34072    C+G   ...al\\Programs\\LM Studio\\LM Studio.exe      N/A      |\n",
      "|    0   N/A  N/A     35568      C   ...al\\Programs\\LM Studio\\LM Studio.exe      N/A      |\n",
      "|    0   N/A  N/A     36228    C+G   ...a\\Local\\slack\\app-4.43.52\\slack.exe      N/A      |\n",
      "|    0   N/A  N/A     36428    C+G   ...mpass\\app-1.45.0\\MongoDBCompass.exe      N/A      |\n",
      "|    0   N/A  N/A     37276    C+G   ...siveControlPanel\\SystemSettings.exe      N/A      |\n",
      "|    0   N/A  N/A     37788    C+G   ...a\\Local\\slack\\app-4.43.52\\slack.exe      N/A      |\n",
      "|    0   N/A  N/A     38496    C+G   ...on\\136.0.3240.50\\msedgewebview2.exe      N/A      |\n",
      "|    0   N/A  N/A     39908    C+G   ...oogle\\Chrome\\Application\\chrome.exe      N/A      |\n",
      "|    0   N/A  N/A     40684    C+G   ...995_x64__8wekyb3d8bbwe\\ms-teams.exe      N/A      |\n",
      "|    0   N/A  N/A     46412    C+G   ...Programs\\Microsoft VS Code\\Code.exe      N/A      |\n",
      "+-----------------------------------------------------------------------------------------+\n"
     ]
    }
   ],
   "source": [
    "!nvidia-smi"
   ]
  },
  {
   "cell_type": "code",
   "execution_count": 4,
   "metadata": {},
   "outputs": [
    {
     "name": "stdout",
     "output_type": "stream",
     "text": [
      "GPU is available: True\n",
      "GPU Name: NVIDIA GeForce RTX 4060 Ti\n",
      "CUDA Version: 11.8\n",
      "PyTorch is using GPU: 0\n"
     ]
    }
   ],
   "source": [
    "import torch\n",
    "\n",
    "print(\"GPU is available:\", torch.cuda.is_available())\n",
    "\n",
    "if torch.cuda.is_available():\n",
    "    print(\"GPU Name:\", torch.cuda.get_device_name(0))\n",
    "    print(\"CUDA Version:\", torch.version.cuda)\n",
    "    print(\"PyTorch is using GPU:\", torch.cuda.current_device())\n",
    "else:\n",
    "    print(\"GPU is not available. PyTorch is running on CPU.\")"
   ]
  },
  {
   "cell_type": "code",
   "execution_count": 5,
   "metadata": {},
   "outputs": [],
   "source": [
    "mongo_uri = os.getenv('MONGO_URI')\n",
    "GEMINI_API_KEY = os.getenv('GEMINI_API_KEY')\n",
    "collection = \"kyanon_digital\""
   ]
  },
  {
   "cell_type": "code",
   "execution_count": 6,
   "metadata": {},
   "outputs": [],
   "source": [
    "def extract_text_and_images_with_ocr(pdf_path):\n",
    "    \"\"\"\n",
    "    Đọc nội dung và trích xuất văn bản từ ảnh trong PDF bằng OCR.\n",
    "\n",
    "    Args:\n",
    "        pdf_path (str): Đường dẫn đến tệp PDF.\n",
    "\n",
    "    Returns:\n",
    "        str: Nội dung văn bản từ PDF (bao gồm cả OCR từ ảnh).\n",
    "    \"\"\"\n",
    "    full_text = \"\"\n",
    "    try:\n",
    "        pdf_document = fitz.open(pdf_path)\n",
    "        \n",
    "        for page_number in range(len(pdf_document)):\n",
    "            page = pdf_document[page_number]\n",
    "            \n",
    "            full_text += page.get_text()\n",
    "            \n",
    "            images = page.get_images(full=True)\n",
    "            for img_index, img in enumerate(images):\n",
    "                xref = img[0]\n",
    "                base_image = pdf_document.extract_image(xref)\n",
    "                image_bytes = base_image[\"image\"]\n",
    "                image_ext = base_image[\"ext\"]\n",
    "                \n",
    "                image_filename = f\"../data/img/temp_image_{page_number + 1}_{img_index + 1}.{image_ext}\"\n",
    "                with open(image_filename, \"wb\") as image_file:\n",
    "                    image_file.write(image_bytes)\n",
    "                \n",
    "                image = Image.open(image_filename)\n",
    "                ocr_text = pytesseract.image_to_string(image)\n",
    "                full_text += ocr_text + \"\\n\"\n",
    "        \n",
    "        return full_text\n",
    "    except Exception as e:\n",
    "        print(f\"Lỗi khi xử lý PDF: {e}\")\n",
    "        return full_text"
   ]
  },
  {
   "cell_type": "code",
   "execution_count": 7,
   "metadata": {},
   "outputs": [
    {
     "name": "stdout",
     "output_type": "stream",
     "text": [
      "Model is using GPU: True\n"
     ]
    }
   ],
   "source": [
    "# https://huggingface.co/thenlper/gte-large\n",
    "embedding_model = SentenceTransformer(\"thenlper/gte-large\")\n",
    "embedding_model = embedding_model.to('cuda')\n",
    "\n",
    "print(\"Model is using GPU:\", next(embedding_model.parameters()).is_cuda)"
   ]
  },
  {
   "cell_type": "code",
   "execution_count": 8,
   "metadata": {},
   "outputs": [
    {
     "name": "stdout",
     "output_type": "stream",
     "text": [
      "Connection to MongoDB successful\n"
     ]
    }
   ],
   "source": [
    "mongo_client = get_mongo_client(mongo_uri)\n",
    "db = mongo_client['Kyanon']\n",
    "collection = db['RAG']"
   ]
  },
  {
   "cell_type": "code",
   "execution_count": 9,
   "metadata": {},
   "outputs": [],
   "source": [
    "def process_and_store_embeddings(pdf_path, mongo_client, chunk_size=500, overlap=10):\n",
    "    \"\"\"\n",
    "    Quy trình: đọc PDF -> chia chunk -> tạo embedding -> lưu vào database.\n",
    "\n",
    "    Args:\n",
    "        pdf_path (str): Đường dẫn đến file PDF.\n",
    "        mongo_client (str): Đường dẫn đến file SQLite database.\n",
    "        chunk_size (int): Kích thước mỗi chunk.\n",
    "        overlap (int): Độ chồng lấn giữa các chunk.\n",
    "    \"\"\"\n",
    "    text_content = extract_text_and_images_with_ocr(pdf_path)\n",
    "\n",
    "    chunks = split_text_into_chunks(text_content, chunk_size, overlap)\n",
    "    print(chunks)\n",
    "    print(f\"Đã chia {len(chunks)} chunk từ văn bản.\")\n",
    "\n",
    "    chunk_embeddings = [(chunk, get_embedding(embedding_model, chunk)) for chunk in chunks]\n",
    "\n",
    "    save_chunks_to_db(chunk_embeddings, mongo_client)\n",
    "\n",
    "    print(f\"Đã lưu {len(chunk_embeddings)} chunk và embedding vào database 'mongo_client'.\")"
   ]
  },
  {
   "cell_type": "code",
   "execution_count": 11,
   "metadata": {},
   "outputs": [
    {
     "name": "stdout",
     "output_type": "stream",
     "text": [
      "['2018 Baseball Hall of Fame balloting\\n1 language\\nArticle\\nTalk\\nRead\\nEdit\\nView history\\nTools\\n←\\xa02017', 'Tools\\n←\\xa02017\\n2019\\xa0→\\n2018 Baseball Hall of Fame\\nballoting\\n \\n \\n National Baseball', 'National Baseball \\n \\n \\nHall of Fame and Museum\\nNew inductees\\n6\\nvia BBWAA\\n4\\nvia Modern Baseball Era', 'via Modern Baseball Era\\nCommittee\\n2\\nTotal inductees\\n323\\nInduction date\\nJuly 29, 2018\\nKey', 'July 29, 2018\\nKey\\n\\xa0\\xa0\\xa0\\xa0\\nElected to the Hall of Fame on this ballot (named\\nin bold italics).', 'in bold italics).\\n\\xa0\\xa0\\xa0\\xa0\\nElected subsequently, as of 2025 (named in plain\\nitalics).', 'italics).\\n\\xa0\\xa0\\xa0\\xa0\\nRenominated for the 2019 BBWAA election by', 'adequate performance on this ballot and has not\\nsubsequently been eliminated.', 'Eliminated from annual BBWAA consideration by\\npoor performance or expiration on subsequent', 'From Wikipedia, the free encyclopedia\\n(Redirected from Baseball Hall of Fame balloting, 2018)', 'Elections to the National Baseball Hall of Fame for 2018', 'proceeded according to rules most recently amended in 2016.', \"As in the past, the Baseball Writers' Association of America\", '(BBWAA) voted by mail to select from a ballot of recently', 'retired players. The results were announced on January 24,', '2018, with the BBWAA electing Chipper Jones, Vladimir', 'Guerrero, Jim Thome and Trevor Hoffman to the Hall of Fame.', 'Jones and Thome were elected in their first year of eligibility.[1]', 'The three voting panels that replaced the more broadly', 'defined Veterans Committee following a 2010 rules change[2]', 'were replaced by a new set of four panels in 2016.[3] The', 'Modern Baseball Era Committee convened on December 10,', '2017, to select from a ballot of retired players and non-playing personnel who made their greatest', 'contributions to the sport between 1970 and 1987,[3] with Jack Morris and Alan Trammell elected by', 'Alan Trammell elected by this', 'body', \".[4] The formal induction ceremony was held at the Hall's facilities in Cooperstown, New York, on\", 'New York, on July', '29, 2018.[1]\\nBBWAA election\\n\\u200b[ edit ]\\nThe BBWAA election rules remained identical to', 'those that were in effect for the most recent\\nelections. The BBWAA voted at the 2016 winter', 'meetings to make all Hall of Fame ballots public\\none week after the results were announced,', 'effective with this election.[5] However, the Hall', \"rejected the BBWAA's proposal, and ballots remain\\nconfidential unless individual voters choose to\", 'reveal them (which is allowed by Hall of Fame\\nrules).[6]\\nDonate Create account Log in', 'ballots.\\n\\xa0\\xa0\\xa0\\xa0\\nEliminated from annual BBWAA consideration by', 'poor performance or expiration on this ballot.\\n†\\nFirst time on the BBWAA ballot.\\n*', '*\\nEliminated from annual BBWAA consideration by\\npoor performance on this ballot (not expiration).', 'Chipper Jones\\nAnother recent rules change, announced in 2015,', 'tightened the qualifications for the BBWAA\\nelectorate. Beginning with the 2016 election,', 'eligible voters must not only have 10\\xa0years of\\ncontinuous BBWAA membership, but also be', 'currently active members, or have held active\\nstatus within the 10\\xa0years prior to the election. A', 'BBWAA member who has not been active for more', 'than 10\\xa0years can regain voting status by covering MLB in the year preceding the election', '.[7] As a result of', 'the new rule, the vote total in 2016 decreased by 109 from the previous year, to 440.[8]', 'The ballot included two categories of players:', 'Candidates from the 2017 ballot who received at least 5% of the vote but were not elected, as long', 'not elected, as long as', 'they first appeared on the BBWAA ballot no earlier than 2009.', 'Selected individuals, chosen by a screening committee, whose last MLB appearance was in 2012.', '422 ballots were cast, 20 fewer than in 2017', '. There were 422 ballots cast, with a total of 3570 votes for', 'individual players, an average of 8', '.46 names per ballot—the highest per-ballot average since 1960 (8.51', 'votes per ballot).\\nVoting results from 2018:[9]\\nPlayer\\nVotes\\nPercent\\nChange\\nYear\\nChipper Jones†\\n410', 'Year\\nChipper Jones†\\n410\\n97.2%\\n–\\n1st\\nVladimir Guerrero\\n392\\n92.9%\\n21.2%\\n2nd\\nJim Thome†\\n379\\n89.8%\\n–', 'Jim Thome†\\n379\\n89.8%\\n–\\n1st\\nTrevor Hoffman\\n337\\n79.9%\\n5.9%\\n3rd\\nEdgar Martínez\\n297\\n70.4%\\n11.8%\\n9th', '297\\n70.4%\\n11.8%\\n9th\\nMike Mussina\\n268\\n63.5%\\n11.7%\\n5th\\nRoger Clemens\\n242\\n57.3%\\n3.2%\\n6th\\nBarry Bonds', '3.2%\\n6th\\nBarry Bonds\\n238\\n56.4%\\n2.6%\\n6th\\nCurt Schilling\\n216\\n51.2%\\n6.2%\\n6th\\nOmar Vizquel†\\n156\\n37.0%\\n–', '156\\n37.0%\\n–\\n1st\\nLarry Walker\\n144\\n34.1%\\n12.2%\\n8th\\nFred McGriff\\n98\\n23.2%\\n1.5%\\n9th\\nManny Ramírez\\n93', '9th\\nManny Ramírez\\n93\\n22.0%\\n1.8%\\n2nd\\nJeff Kent\\n61\\n14.5%\\n2.2%\\n5th\\nGary Sheffield\\n47\\n11.1%\\n2.2%\\n4th\\nFY', '.', 'Vladimir Guerrero\\nJim Thome\\nTrevor Hoffman\\nBilly Wagner\\n47\\n11.1%\\n0.9%\\n3rd\\nScott Rolen†\\n43\\n10.2%\\n–', 'Scott Rolen†\\n43\\n10.2%\\n–\\n1st\\nSammy Sosa\\n33\\n7.8%\\n0.8%\\n6th\\nAndruw Jones†\\n31\\n7.3%\\n–\\n1st\\nJamie Moyer†*', '7.3%\\n–\\n1st\\nJamie Moyer†*\\n10\\n2.4%\\n–\\n1st\\nJohan Santana†*\\n10\\n2.4%\\n–\\n1st\\nJohnny Damon†*\\n8\\n1.9%\\n–\\n1st', '8\\n1.9%\\n–\\n1st\\nHideki Matsui†*\\n4\\n0.9%\\n–\\n1st\\nChris Carpenter†*\\n2\\n0.5%\\n–\\n1st\\nKerry Wood†*\\n2\\n0.5%\\n–\\n1st', '2\\n0.5%\\n–\\n1st\\nLiván Hernández†*\\n1\\n0.2%\\n–\\n1st\\nCarlos Lee†*\\n1\\n0.2%\\n–\\n1st\\nOrlando Hudson†*\\n0\\n0%\\n–\\n1st', '0\\n0%\\n–\\n1st\\nAubrey Huff†*\\n0\\n0%\\n–\\n1st\\nJason Isringhausen†*\\n0\\n0%\\n–\\n1st\\nBrad Lidge†*\\n0\\n0%\\n–\\n1st', 'Brad Lidge†*\\n0\\n0%\\n–\\n1st\\nKevin Millwood†*\\n0\\n0%\\n–\\n1st\\nCarlos Zambrano†*\\n0\\n0%\\n–\\n1st', '0\\n0%\\n–\\n1st\\nPlayers who were eligible for the first time in 2018 but were not on', 'the ballot included Rod Barajas, Miguel Batista, Geoff Blum, Miguel', 'Cairo, Aaron Cook, Francisco Cordero, Juan Cruz, Brian Fuentes,', 'Bill Hall, Willie Harris, Nick Johnson, Adam Kennedy, Rodrigo', 'López, Mike MacDougal, Guillermo Mota, Will Ohman, Vicente', 'Padilla, Carl Pavano, Scott Podsednik, Juan Rivera, J. C. Romero,', 'Brian Schneider, Ben Sheets, Jeff Suppan, Kip Wells, Dan Wheeler\\nand Jack Wilson.', \"and Jack Wilson.\\nScott Rolen's 10.2% was the lowest first-year vote percentage in\", 'history for a candidate who was eventually elected by the BBWAA.', 'He was voted in on the 2023 ballot.[10]\\nModern Baseball Era Committee\\n\\u200b[ edit ]', \"On July 23, 2016, the Hall of Fame announced changes to the Era Committee system. The system's\", 'timeframes were restructured to place a greater emphasis on the modern game, and to reduce the\\nFY', '.', 'Jack Morris\\nAlan Trammell\\nfrequency at which individuals from the pre-1970 game (including', 'Negro league baseball figures) will have their careers reviewed.[3]', 'Considering candidates whose greatest contributions occurred from', '1970 to 1987, the Modern Baseball Era Committee met in 2017 as', 'part of the elections for the next calendar year.', 'Further information: Veterans Committee §\\xa02016 revisions', 'On November 6, 2017, the Hall announced the 10 candidates to be', 'considered when the Modern Baseball Era Committee met at the', '2017 winter meetings near Walt Disney World on December 10, with', 'the voting results announced immediately after the committee', 'met.[11] The cutoff for election and induction remained the standard\\n75%, or 12 of 16 votes.', '75%, or 12 of 16 votes.\\nThe committee consisted of the following individuals:[4]', 'Hall of Famers: George Brett, Rod Carew, Bobby Cox, Dennis', 'Eckersley, John Schuerholz, Don Sutton, Dave Winfield, Robin\\nYount', 'Yount\\nExecutives: Sandy Alderson, Paul Beeston, Bob Castellini, David\\nGlass, Bill DeWitt', 'Glass, Bill DeWitt\\nMedia and historians: Bob Elliott, Steve Hirdt, Jayson Stark', 'Non-voting committee chair: Jane Forbes Clark (Hall of Fame\\nchairman)\\nCandidate\\nCategory\\nVotes', 'Candidate\\nCategory\\nVotes\\nPercent\\nRef\\nJack Morris\\nPlayer\\n14\\n87.5%\\n[12]\\nAlan Trammell\\nPlayer\\n13\\n81.3%', 'Player\\n13\\n81.3%\\n[12]\\nTed Simmons\\nPlayer\\n11\\n68.8%\\n[12]\\nMarvin Miller\\nExecutive\\n7\\n43.8%\\n[12]', 'Executive\\n7\\n43.8%\\n[12]\\nSteve Garvey\\nPlayer\\n<7\\n–\\n[12]\\nTommy John\\nPlayer\\n<7\\n–\\n[12]\\nDon Mattingly', '<7\\n–\\n[12]\\nDon Mattingly\\nPlayer\\n<7\\n–\\n[12]\\nDale Murphy\\nPlayer\\n<7\\n–\\n[12]\\nDave Parker\\nPlayer\\n<7\\n–\\n[12]', 'Player\\n<7\\n–\\n[12]\\nLuis Tiant\\nPlayer\\n<7\\n–\\n[12]', 'All candidates except Miller were living when the ballot and voting results were announced', '. Mattingly,', 'Morris, Murphy and Trammell were being considered for the first time; the others had been', 'the others had been considered at', 'least once by one of the predecessors to this committee', '. Garvey, John, Miller, Parker and Simmons were', 'most recently considered in 2014 by the former Expansion Era Committee, and Tiant was most recently', 'considered by the former Golden Era Committee in 2015', '. Among players, Simmons was the only candidate', 'who was not on the BBWAA ballot for the full 15-year period formerly allowed by Hall rules; he', 'by Hall rules; he received less', 'than 5% when he debuted on the BBWAA ballot in 1994 and thus did not appear on further ballots', '. The Hall', 'changed the eligibility period to 10 years starting with the 2015 election, but Trammell and', 'but Trammell and Mattingly (who', 'were then past the new 10-year cutoff) retained their original 15-year eligibility window.', 'J. G. Taylor Spink Award\\n\\u200b[ edit ]', 'The J. G. Taylor Spink Award has been presented by the BBWAA at the annual summer induction', 'ceremonies since 1962', '.[13] Through 2010, it was awarded during the main induction ceremony, but is now', 'given the previous day at the Hall of Fame Awards Presentation', '. It recognizes a sportswriter \"for meritorious', 'contributions to baseball writing\"', '.[14] The recipients are not members of the Hall of Fame but are featured in', 'a permanent exhibit at the National Baseball Museum.', 'The three finalists for the 2018 award were announced during the 2017 All-Star break.[15]', 'Sheldon Ocker, Akron Beacon-Journal (retired)\\nJim Reeves, Fort Worth Star-Telegram', 'Patrick Reusse, Star Tribune (Minneapolis)', 'Ocker was announced as the recipient during the 2017 winter meetings on December 12', '.[16] He covered the', 'Cleveland Indians for more than three decades, serving as Cleveland Indians beat reporter for the', 'beat reporter for the Beacon-', 'Journal from 1981 until his retirement at the end of the 2013 season', '. Ocker received 168 of the 426 ballots', \"cast (including two blanks) to Reeves' 143 and Reusse's 113.[17]\\nFord C. Frick Award\\n\\u200b[ edit ]\", 'Various changes in July 2016 were also made to the annual Ford C. Frick Award elections, presented', 'annually to a preeminent baseball broadcaster since 1978', '. According to the Hall, the new criteria for', 'selection are \"Commitment to excellence, quality of broadcasting abilities, reverence within the', 'reverence within the game,', 'popularity with fans, and recognition by peers.\"', 'Additionally, a ballot of eight candidates will now be set, down from 10 in years past', '. The three ballot slots', 'previously determined by fan voting on Facebook will now be filled by a committee of historians.', 'A new election cycle has been established, rotating annually between Current Major League Markets', 'Major League Markets (team-', 'specific announcers) with the 2017 Frick Award; National Voices (broadcasters whose contributions', 'whose contributions were', 'realized on a national level) with the 2018 Frick Award; and Broadcasting Beginnings (early team', 'Beginnings (early team voices and', 'pioneers of baseball broadcasting) with the 2019 Frick Award', '. This cycle will repeat every three years.[3]', 'The Hall announced the following finalists for the 2018 Ford C. Frick Award on October 23, 2017', '.[18]', 'Buddy Blattner\\nJoe Buck\\nBob Costas\\nDizzy Dean\\nDon Drysdale\\nAl Michaels\\nJoe Morgan\\nPee Wee Reese', 'Four finalists were members of the Hall of Fame as players—Dean, Drysdale, Morgan and Reese', '. When the', 'ballot was announced, Buck, Costas, Michaels and Morgan were still alive. The other four were', 'deceased.[18]', 'Costas was announced as the recipient at the 2017 winter meetings on December 13. He began his', 'sportscasting career as a play-by-play caller for the Spirits of St', '. Louis in the American Basketball', 'Association, and went from there to calling NBA and NFL games for CBS, but made his greatest mark', 'made his greatest mark as', \"part of NBC's broadcast team for its national MLB telecasts from 1982 to 2009\", '. Costas then joined the MLB', \"Network, where he was serving as the network's documentary host when he was announced as the Frick\", 'Award recipient.[19]\\nReferences\\n\\u200b[ edit ]\\n1. ^ a b \"Baseball Hall of Fame adds four new members\"', '. ESPN.com. January 24, 2018. Retrieved January 24,\\n2018.', '2', '. ^ \"Hall of Fame Board of Directors Restructures Procedures for Consideration of Managers, Umpires,', 'of Managers, Umpires, Executives', 'and Long-Retired Players\"', '(Press release). National Baseball Hall of Fame and Museum. July 26, 2010.', 'Retrieved January 15, 2011.\\n3. ^ a b c d \"Hall of Fame Makes Series of Announcements\"', '(Press release). National Baseball Hall of Fame and', 'Museum. July 23, 2016. Retrieved August 14, 2016.', '4. ^ a b \"Jack Morris, Alan Trammell Elected to Hall of Fame by Modern Baseball Era Committee\"', '(Press release).', 'National Baseball Hall of Fame and Museum. December 10, 2017. Retrieved December 10, 2017.', '5. ^ Bloom, Barry J. (December 6, 2016)', '. (December 6, 2016). \"Hall of Fame ballots will be made public starting in 2018\"', '. mlb.com.\\nRetrieved January 18, 2017.', '6. ^ Calcaterra, Craig (November 20, 2017)', '. \"The Hall of Fame rejected the BBWAA vote to make ballots public\"', '.\\nNBC Sports. Retrieved December 11, 2017.', '7. ^ \"Hall of Fame Announces Change to BBWAA Voting Electorate\"', '(Press release). National Baseball Hall of', 'Fame and Museum. July 28, 2015. Retrieved July 28, 2015.', '8. ^ \"Ken Griffey Jr. (99 percent of vote), Mike Piazza head to Cooperstown\"', '. espn.go.com. January 6, 2016.\\nRetrieved January 6, 2016.', '9. ^ Baseball Hall of Fame. \"BBWAA elects 4 to Hall of Fame\"\\n.', '10. ^ Axisa, Mike (January 24, 2022)', '. \"2023 Baseball Hall of Fame voting results: Scott Rolen squeaks in, will join', 'Fred McGriff in Cooperstown\"\\n. CBSSports.com. Retrieved January 24, 2022.\\nPrivacy policy', 'Privacy policy\\nAbout Wikipedia\\nDisclaimers\\nContact Wikipedia\\nCode of Conduct\\nDevelopers\\nStatistics', 'Developers\\nStatistics\\nCookie statement\\nMobile view', 'Mobile view\\nThis page was last edited on 3 April 2025, at 20:07\\xa0(UTC).', 'Text is available under the Creative Commons Attribution-ShareAlike 4', '.0 License; additional terms may apply. By using this site, you agree to the', 'Terms of Use and Privacy Policy', '. Wikipedia® is a registered trademark of the Wikimedia Foundation, Inc., a non-profit organization.', 'Baseball portal\\n[show]\\nv · t · e\\n[show]\\nv · t · e\\n11. ^ \"2018 Modern Baseball Era Ballot\"', '(Press release). National Baseball Hall of Fame and Museum. November', '6, 2017. Retrieved December 2, 2017.', '12. ^ a b c d e f g h i j Axisa, Mike (December 10, 2017)', '. \"Jack Morris and Alan Trammell voted into Hall of Fame by', 'Modern Era Committee\"\\n. CBS Sports. Retrieved December 13, 2017.\\n13. ^ \"J.G. Taylor Spink Award\"', '. baseball-almanac.com. Retrieved July 20, 2010.\\n14. ^ \"Awards: J. G. Taylor Spink\"', '. National Baseball Hall of Fame and Museum. Retrieved January 11, 2014.', '15. ^ Miller, Phil (July 11, 2017). \"Patrick Reusse nominated for Baseball Hall of Fame honor\"', '. Star Tribune.\\nMinneapolis. Retrieved December 2, 2017.', '16. ^ Francis, William (December 12, 2017). \"2018 J. G. Taylor Spink Award Winner Sheldon Ocker\"\\n.', '.\\nbaseballhall.org. Retrieved December 18, 2017.', '17. ^ Castrovince, Anthony (December 12, 2017). \"Ocker honored as 2018 Spink Award recipient\"', '. MLB.com.\\nRetrieved December 13, 2017.\\n18. ^ a b \"2018 Ford C. Frick Award Ballot\"', '(Press release). National Baseball Hall of Fame and Museum. October', '23, 2017. Retrieved November 7, 2017.', '19. ^ Macklin, Oliver (December 13, 2017). \" \\'National treasure\\' Costas wins \\'18 Frick Award\"', '. MLB.com. Retrieved\\nDecember 13, 2017.\\nExternal links\\n\\u200b[ edit ]', 'External links\\n\\u200b[ edit ]\\nNational Baseball Hall of Fame official website', 'BBWAA rules for election to the Hall of Fame\\nBalloting for the National Baseball Hall of Fame', 'Baseball Hall of Fame Class of 2018\\nCategories: Baseball Hall of Fame balloting\\n2018 in baseball', '2018 in baseball\\nrr A\\nGe']\n",
      "Đã chia 228 chunk từ văn bản.\n",
      "Đã lưu 228 chunk và embedding vào MongoDB collection 'RAG'.\n",
      "Đã lưu 228 chunk và embedding vào database 'mongo_client'.\n"
     ]
    }
   ],
   "source": [
    "pdf_path = os.path.join(root_dir, \"data\", \"test.pdf\").replace(\"\\\\\", \"/\")\n",
    "process_and_store_embeddings(pdf_path, mongo_client)"
   ]
  },
  {
   "cell_type": "code",
   "execution_count": 12,
   "metadata": {},
   "outputs": [
    {
     "name": "stdout",
     "output_type": "stream",
     "text": [
      "{'chunk': 'The BBWAA election', 'score': 0.9754542112350464}\n",
      "{'chunk': 'BBWAA election', 'score': 0.9748227596282959}\n",
      "{'chunk': 'the BBWAA electing', 'score': 0.9739000797271729}\n",
      "{'chunk': 'the BBWAA ballot', 'score': 0.9708729982376099}\n",
      "{'chunk': 'the BBWAA ballot', 'score': 0.9708729982376099}\n",
      "{'chunk': '29, 2018.[1]\\nBBWAA election\\n\\u200b[ edit ]\\nThe BBWAA election rules remained identical to', 'score': 0.967252254486084}\n",
      "{'chunk': '29, 2018.[1]\\nBBWAA election\\n\\u200b[ edit ]\\nThe BBWAA election rules remained identical to', 'score': 0.967252254486084}\n",
      "{'chunk': '29, 2018.[1]\\nBBWAA election\\n\\u200b[ edit ]\\nThe BBWAA election rules remained identical to', 'score': 0.967252254486084}\n",
      "{'chunk': '29, 2018.[1]\\nBBWAA election\\n\\u200b[ edit ]\\nThe BBWAA election rules remained identical to', 'score': 0.967252254486084}\n",
      "{'chunk': '29, 2018.[1]\\nBBWAA election\\n\\u200b[ edit ]\\nThe BBWAA election rules remained identical to', 'score': 0.967252254486084}\n"
     ]
    },
    {
     "data": {
      "text/plain": [
       "'\\n'"
      ]
     },
     "execution_count": 12,
     "metadata": {},
     "output_type": "execute_result"
    }
   ],
   "source": [
    "query = \"What is The BBWAA election rules?\"\n",
    "source_information = get_search_result(embedding_model, query.lower(), collection)\n",
    "source_information[0]"
   ]
  },
  {
   "cell_type": "code",
   "execution_count": 13,
   "metadata": {},
   "outputs": [
    {
     "name": "stdout",
     "output_type": "stream",
     "text": [
      "==== LLMs Inference\n",
      "Hãy trở thành chuyên gia về các khái niệm trên wikipidea. Câu hỏi của khách hàng: What is The BBWAA election rules?\n",
      "Trả lời câu hỏi dựa vào các thông tin tài liệu dưới đây: \n",
      " 1) Content: The BBWAA election\n",
      " 2) Content: BBWAA election\n",
      " 3) Content: the BBWAA electing\n",
      " 4) Content: the BBWAA ballot\n",
      " 5) Content: the BBWAA ballot\n",
      " 6) Content: 29, 2018.[1]\n",
      "BBWAA election\n",
      "​[ edit ]\n",
      "The BBWAA election rules remained identical to\n",
      " 7) Content: 29, 2018.[1]\n",
      "BBWAA election\n",
      "​[ edit ]\n",
      "The BBWAA election rules remained identical to\n",
      " 8) Content: 29, 2018.[1]\n",
      "BBWAA election\n",
      "​[ edit ]\n",
      "The BBWAA election rules remained identical to\n",
      " 9) Content: 29, 2018.[1]\n",
      "BBWAA election\n",
      "​[ edit ]\n",
      "The BBWAA election rules remained identical to\n",
      " 10) Content: 29, 2018.[1]\n",
      "BBWAA election\n",
      "​[ edit ]\n",
      "The BBWAA election rules remained identical to.\n"
     ]
    }
   ],
   "source": [
    "combined_information = f\"Hãy trở thành chuyên gia về các khái niệm trên wikipidea. Câu hỏi của khách hàng: {query}\\nTrả lời câu hỏi dựa vào các thông tin tài liệu dưới đây: {source_information}.\"\n",
    "print('==== LLMs Inference')\n",
    "print(combined_information)"
   ]
  },
  {
   "cell_type": "code",
   "execution_count": 14,
   "metadata": {},
   "outputs": [],
   "source": [
    "genai.configure(api_key=GEMINI_API_KEY)\n",
    "model = genai.GenerativeModel('gemini-1.5-pro')"
   ]
  },
  {
   "cell_type": "code",
   "execution_count": 15,
   "metadata": {},
   "outputs": [
    {
     "data": {
      "text/markdown": [
       "> Hello! How can I help you today?\n"
      ],
      "text/plain": [
       "<IPython.core.display.Markdown object>"
      ]
     },
     "execution_count": 15,
     "metadata": {},
     "output_type": "execute_result"
    }
   ],
   "source": [
    "%%time\n",
    "response = model.generate_content(combined_information)\n",
    "to_markdown(response.text)"
   ]
  },
  {
   "cell_type": "code",
   "execution_count": 16,
   "metadata": {},
   "outputs": [],
   "source": [
    "from huggingface_hub import login\n",
    "\n",
    "api_token = os.getenv('HUGGINGE_FACE_TOKEN') \n",
    "login(api_token)\n",
    "\n"
   ]
  },
  {
   "cell_type": "code",
   "execution_count": 17,
   "metadata": {},
   "outputs": [
    {
     "name": "stderr",
     "output_type": "stream",
     "text": [
      "Fetching 2 files: 100%|██████████| 2/2 [02:38<00:00, 79.46s/it] \n",
      "Loading checkpoint shards: 100%|██████████| 2/2 [00:02<00:00,  1.45s/it]\n"
     ]
    }
   ],
   "source": [
    "from transformers import AutoTokenizer, AutoModelForCausalLM\n",
    "\n",
    "tokenizer = AutoTokenizer.from_pretrained(\"google/gemma-2b-it\")\n",
    "model = AutoModelForCausalLM.from_pretrained(\"google/gemma-2b-it\", device_map=\"auto\")"
   ]
  },
  {
   "cell_type": "code",
   "execution_count": 18,
   "metadata": {},
   "outputs": [
    {
     "name": "stdout",
     "output_type": "stream",
     "text": [
      "<bos>Hãy trở thành chuyên gia về các khái niệm trên wikipidea. Câu hỏi của khách hàng: What is The BBWAA election rules?\n",
      "Trả lời câu hỏi dựa vào các thông tin tài liệu dưới đây: \n",
      " 1) Content: The BBWAA election\n",
      " 2) Content: BBWAA election\n",
      " 3) Content: the BBWAA electing\n",
      " 4) Content: the BBWAA ballot\n",
      " 5) Content: the BBWAA ballot\n",
      " 6) Content: 29, 2018.[1]\n",
      "BBWAA election\n",
      "​[ edit ]\n",
      "The BBWAA election rules remained identical to\n",
      " 7) Content: 29, 2018.[1]\n",
      "BBWAA election\n",
      "​[ edit ]\n",
      "The BBWAA election rules remained identical to\n",
      " 8) Content: 29, 2018.[1]\n",
      "BBWAA election\n",
      "​[ edit ]\n",
      "The BBWAA election rules remained identical to\n",
      " 9) Content: 29, 2018.[1]\n",
      "BBWAA election\n",
      "​[ edit ]\n",
      "The BBWAA election rules remained identical to\n",
      " 10) Content: 29, 2018.[1]\n",
      "BBWAA election\n",
      "​[ edit ]\n",
      "The BBWAA election rules remained identical to.\n",
      " \n",
      "Từ những thông tin trên, chúng ta có thể rút ra các khái niệm sau:\n",
      "\n",
      "* The BBWAA election rules were identical from 2018 to 2018.\n",
      "* The BBWAA election rules were not changed in 2018.<eos>\n"
     ]
    }
   ],
   "source": [
    "input_ids = tokenizer(combined_information, return_tensors=\"pt\").to(\"cuda\")\n",
    "response = model.generate(**input_ids, max_new_tokens=100)\n",
    "print(tokenizer.decode(response[0]))"
   ]
  }
 ],
 "metadata": {
  "kernelspec": {
   "display_name": "kyanon_digital",
   "language": "python",
   "name": "python3"
  },
  "language_info": {
   "codemirror_mode": {
    "name": "ipython",
    "version": 3
   },
   "file_extension": ".py",
   "mimetype": "text/x-python",
   "name": "python",
   "nbconvert_exporter": "python",
   "pygments_lexer": "ipython3",
   "version": "3.10.16"
  }
 },
 "nbformat": 4,
 "nbformat_minor": 2
}
